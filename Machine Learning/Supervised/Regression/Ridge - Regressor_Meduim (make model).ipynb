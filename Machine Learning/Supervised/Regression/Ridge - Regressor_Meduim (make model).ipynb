{
 "cells": [
  {
   "cell_type": "markdown",
   "metadata": {
    "_cell_guid": "20ff96c2-6e8f-474a-86a5-b762b7876b1c",
    "_uuid": "3cc7d9de4da8f868d983ec69b37546c51d68f407"
   },
   "source": [
    "Here we use a simple linear model and article content with `CountVectorizer`."
   ]
  },
  {
   "cell_type": "markdown",
   "metadata": {
    "_cell_guid": "10375e63-c7e4-4384-9521-1c5f20906eae",
    "_uuid": "889e971a7c32a4ac1dbc4ef55df672ab0f1ac9be"
   },
   "source": [
    "Import libraries."
   ]
  },
  {
   "cell_type": "code",
   "execution_count": 38,
   "metadata": {
    "_cell_guid": "475f15a1-214d-4b48-b315-cdfa71c20c50",
    "_uuid": "7e5b949eafbf62826c6f02c39fdb55178d66fabd"
   },
   "outputs": [],
   "source": [
    "import os\n",
    "import json\n",
    "import re\n",
    "import numpy as np\n",
    "import pandas as pd\n",
    "import matplotlib.pyplot as plt\n",
    "import pickle\n",
    "\n",
    "import lightgbm as lgb\n",
    "from sklearn.preprocessing import StandardScaler, MinMaxScaler\n",
    "from sklearn.feature_extraction.text import TfidfVectorizer, CountVectorizer\n",
    "from sklearn.feature_selection import VarianceThreshold, SelectKBest, f_regression, mutual_info_regression, SelectFromModel\n",
    "from sklearn.linear_model import Ridge, RidgeCV\n",
    "from sklearn.metrics import mean_absolute_error\n",
    "from scipy.sparse import csr_matrix, hstack\n",
    "from scipy import sparse\n",
    "\n",
    "from html.parser import HTMLParser\n",
    "from tqdm import tqdm_notebook\n",
    "from functools import reduce\n",
    "from statistics import mean\n",
    "from datetime import datetime"
   ]
  },
  {
   "cell_type": "markdown",
   "metadata": {
    "_cell_guid": "2c1f42b4-423a-4ea6-a3a8-e783d1e10fda",
    "_uuid": "cf2daf1d4628d1f996e5c6180d3ee49bdbc8488f"
   },
   "source": [
    "The following code will help to throw away all HTML tags from an article content."
   ]
  },
  {
   "cell_type": "code",
   "execution_count": 2,
   "metadata": {
    "_cell_guid": "37ad2332-3111-4983-a6aa-0961aeb6ae02",
    "_uuid": "e64bf63dbe42583a5080d31e19d7d283a6bc0c68"
   },
   "outputs": [],
   "source": [
    "from html.parser import HTMLParser\n",
    "\n",
    "class MLStripper(HTMLParser):\n",
    "    def __init__(self):\n",
    "        self.reset()\n",
    "        self.strict = False\n",
    "        self.convert_charrefs= True\n",
    "        self.fed = []\n",
    "    def handle_data(self, d):\n",
    "        self.fed.append(d)\n",
    "    def get_data(self):\n",
    "        return ''.join(self.fed)\n",
    "\n",
    "def strip_tags(html):\n",
    "    s = MLStripper()\n",
    "    s.feed(html)\n",
    "    return s.get_data()"
   ]
  },
  {
   "cell_type": "code",
   "execution_count": 3,
   "metadata": {
    "_cell_guid": "9051d077-6739-4fe2-83a5-6628f4833cbf",
    "_uuid": "dfeac755772fd66636d84221a80501754fe3dfbf"
   },
   "outputs": [],
   "source": [
    "PATH_TO_DATA = 'data_6'"
   ]
  },
  {
   "cell_type": "markdown",
   "metadata": {
    "_cell_guid": "60c7c92c-c387-4c1a-b272-fc36f85b0cef",
    "_uuid": "af961104abccccf1dff5638b7e97c474f56e51b8"
   },
   "source": [
    "Assume you have all data downloaded from competition's [page](https://www.kaggle.com/c/how-good-is-your-medium-article/data) in the PATH_TO_DATA folder and `.gz` files are ungzipped."
   ]
  },
  {
   "cell_type": "code",
   "execution_count": 3,
   "metadata": {
    "_cell_guid": "b6b85182-8ca8-4144-91ef-ceb472ce2518",
    "_uuid": "75ca681a11b040c9f5b3b38e37a9f99351ecf278"
   },
   "outputs": [
    {
     "name": "stderr",
     "output_type": "stream",
     "text": [
      "\"ls\" ­Ґ пў«пҐвбп ў­гваҐ­­Ґ© Ё«Ё ў­Ґи­Ґ©\n",
      "Є®¬ ­¤®©, ЁбЇ®«­пҐ¬®© Їа®Ја ¬¬®© Ё«Ё Ї ЄҐв­л¬ д ©«®¬.\n"
     ]
    }
   ],
   "source": [
    "!ls -l $PATH_TO_DATA"
   ]
  },
  {
   "cell_type": "markdown",
   "metadata": {
    "_cell_guid": "8aa113b4-f062-46c2-ac90-c859a064226d",
    "_uuid": "5da5e0f993dc5bbd06d291c3fc1953aba470546e"
   },
   "source": [
    "Supplementary function to read a JSON line without crashing on escape characters. "
   ]
  },
  {
   "cell_type": "code",
   "execution_count": 4,
   "metadata": {
    "_cell_guid": "badfb2bc-1f36-4311-a6aa-6452380e7e40",
    "_uuid": "bc1b8f0ecfba589b0714b9014fac3329793a2421"
   },
   "outputs": [],
   "source": [
    "def read_json_line(line=None):\n",
    "    result = None\n",
    "    try:        \n",
    "        result = json.loads(line)\n",
    "    except Exception as e:      \n",
    "        # Find the offending character index:\n",
    "        idx_to_replace = int(str(e).split(' ')[-1].replace(')',''))      \n",
    "        # Remove the offending character:\n",
    "        new_line = list(line)\n",
    "        new_line[idx_to_replace] = ' '\n",
    "        new_line = ''.join(new_line)     \n",
    "        return read_json_line(line=new_line)\n",
    "    return result"
   ]
  },
  {
   "cell_type": "markdown",
   "metadata": {
    "_cell_guid": "4b78878e-b4f2-4a45-8be3-f789b3c3f221",
    "_uuid": "8ae68965cee9dfb58f88370e6a079ec4b2306e10"
   },
   "source": [
    "This function takes a JSON and forms a txt file leaving only article content. When you resort to feature engineering and extract various features from articles, a good idea is to modify this function."
   ]
  },
  {
   "cell_type": "code",
   "execution_count": 5,
   "metadata": {
    "_cell_guid": "324441ce-e666-44c4-838c-acd78f9bfcf5",
    "_uuid": "e0fe7f2fd52b8f91c95cfb78c2af9d8e520cdd60"
   },
   "outputs": [],
   "source": [
    "def preprocess(path_to_inp_json_file):\n",
    "    output_list = []\n",
    "    with open(path_to_inp_json_file, encoding='utf-8') as inp_file:\n",
    "        for line in tqdm_notebook(inp_file):\n",
    "            json_data = read_json_line(line)\n",
    "            data = json_data['title'].replace('\\n', ' ').replace('\\r', ' ')\n",
    "            data_no_html_tags = strip_tags(data)\n",
    "            output_list.append(data_no_html_tags)\n",
    "    return output_list"
   ]
  },
  {
   "cell_type": "code",
   "execution_count": 77,
   "metadata": {
    "_cell_guid": "e901af5c-6623-449e-bce1-6e274022460e",
    "_uuid": "589761bb5972c78dee2694e08d3b94d6666e2bb6"
   },
   "outputs": [
    {
     "data": {
      "application/vnd.jupyter.widget-view+json": {
       "model_id": "7d2ed447c2664d44af046adeee51cbdb",
       "version_major": 2,
       "version_minor": 0
      },
      "text/plain": [
       "HBox(children=(IntProgress(value=1, bar_style='info', max=1), HTML(value='')))"
      ]
     },
     "metadata": {},
     "output_type": "display_data"
    },
    {
     "name": "stdout",
     "output_type": "stream",
     "text": [
      "Wall time: 21.3 s\n"
     ]
    }
   ],
   "source": [
    "%%time\n",
    "# train_raw_content = preprocess(path_to_inp_json_file=os.path.join(PATH_TO_DATA, 'train.json'), content)\n",
    "train_title = preprocess(path_to_inp_json_file=os.path.join(PATH_TO_DATA, 'train.json'))"
   ]
  },
  {
   "cell_type": "code",
   "execution_count": 78,
   "metadata": {
    "_cell_guid": "9d75d0f6-b866-4c4e-ba3f-edb1201cdadb",
    "_uuid": "9eb05d3d97036388da1e431683c7272c2c203fec"
   },
   "outputs": [
    {
     "data": {
      "application/vnd.jupyter.widget-view+json": {
       "model_id": "7b1b6dd0983a4a9aa33b8e29aeb19894",
       "version_major": 2,
       "version_minor": 0
      },
      "text/plain": [
       "HBox(children=(IntProgress(value=1, bar_style='info', max=1), HTML(value='')))"
      ]
     },
     "metadata": {},
     "output_type": "display_data"
    },
    {
     "name": "stdout",
     "output_type": "stream",
     "text": [
      "Wall time: 13.4 s\n"
     ]
    }
   ],
   "source": [
    "%%time\n",
    "# test_raw_content = preprocess(path_to_inp_json_file=os.path.join(PATH_TO_DATA, 'test.json'), content)\n",
    "test_title = preprocess(path_to_inp_json_file=os.path.join(PATH_TO_DATA, 'test.json'))"
   ]
  },
  {
   "cell_type": "markdown",
   "metadata": {
    "_cell_guid": "25fef59c-d54f-411c-a9c7-4a675b29a989",
    "_uuid": "de8308666fe1f7e111edb7ae29a8ec5bafea84dd"
   },
   "source": [
    "We'll use a linear model (`Ridge`) with a very simple feature extractor – `CountVectorizer`, meaning that we resort to the Bag-of-Words approach. For now, we are leaving only 50k features. "
   ]
  },
  {
   "cell_type": "code",
   "execution_count": 83,
   "metadata": {
    "_cell_guid": "39f25d08-a576-4535-8527-d25ddfedebd6",
    "_uuid": "51549a949259a1cc1330d513cbd3c60a8c5a371b"
   },
   "outputs": [],
   "source": [
    "cv = TfidfVectorizer(ngram_range=(1, 3), max_features=150_000)  # cv = CountVectorizer(max_features=50000)"
   ]
  },
  {
   "cell_type": "code",
   "execution_count": 84,
   "metadata": {
    "_cell_guid": "05342073-facd-4b75-8e94-0f3ad63f79f3",
    "_uuid": "d96e23b597cdbcc1d13f4fa7b2051c4515b1c2b4"
   },
   "outputs": [
    {
     "data": {
      "application/vnd.jupyter.widget-view+json": {
       "model_id": "dbe6cb05b1f845c2b6562f087f0d3cf3",
       "version_major": 2,
       "version_minor": 0
      },
      "text/plain": [
       "HBox(children=(IntProgress(value=0, max=62313), HTML(value='')))"
      ]
     },
     "metadata": {},
     "output_type": "display_data"
    },
    {
     "name": "stdout",
     "output_type": "stream",
     "text": [
      "Wall time: 5.05 s\n"
     ]
    }
   ],
   "source": [
    "%%time\n",
    "X_train_title = cv.fit_transform(tqdm_notebook(train_title))"
   ]
  },
  {
   "cell_type": "code",
   "execution_count": 85,
   "metadata": {
    "_cell_guid": "370036a0-1b59-46d3-b1d2-ba6f22400e7a",
    "_uuid": "aa5f327814464d01eb6addefd13e510e28a0bb67"
   },
   "outputs": [
    {
     "data": {
      "application/vnd.jupyter.widget-view+json": {
       "model_id": "5547513bbf244a31a18bc3dd8954f6c5",
       "version_major": 2,
       "version_minor": 0
      },
      "text/plain": [
       "HBox(children=(IntProgress(value=0, max=34645), HTML(value='')))"
      ]
     },
     "metadata": {},
     "output_type": "display_data"
    },
    {
     "name": "stdout",
     "output_type": "stream",
     "text": [
      "Wall time: 1.08 s\n"
     ]
    }
   ],
   "source": [
    "%%time\n",
    "X_test_title = cv.transform(tqdm_notebook(test_title))"
   ]
  },
  {
   "cell_type": "code",
   "execution_count": 86,
   "metadata": {},
   "outputs": [
    {
     "name": "stdout",
     "output_type": "stream",
     "text": [
      "(62313, 150000) (34645, 150000)\n"
     ]
    }
   ],
   "source": [
    "print(X_train_title.shape, X_test_title.shape)\n",
    "\n",
    "sparse.save_npz('data_6/train_titile(1-2).npz', X_train_title)\n",
    "sparse.save_npz('data_6/test_titile(1-2).npz', X_test_title)"
   ]
  },
  {
   "cell_type": "code",
   "execution_count": 48,
   "metadata": {
    "_cell_guid": "873abee7-442d-49df-931e-7e59d0c990b9",
    "_uuid": "fc837f60e80e595839ff1cb0b0e97bb7c8232f17"
   },
   "outputs": [
    {
     "name": "stdout",
     "output_type": "stream",
     "text": [
      "(62313, 150000) (34645, 150000)\n"
     ]
    }
   ],
   "source": [
    "# Подгружаем готовые матрицы контента\n",
    "X_train = sparse.load_npz('data_6/train_content(1-2).npz')\n",
    "X_test = sparse.load_npz('data_6/test_content(1-2).npz')\n",
    "train_title = sparse.load_npz('data_6/train_titile(1-2).npz')\n",
    "test_title = sparse.load_npz('data_6/test_titile(1-2).npz')\n",
    "\n",
    "print(train_title.shape, test_title.shape)"
   ]
  },
  {
   "cell_type": "code",
   "execution_count": 44,
   "metadata": {},
   "outputs": [
    {
     "data": {
      "application/vnd.jupyter.widget-view+json": {
       "model_id": "22941ec322bd4ed492d7bcd80bbc3538",
       "version_major": 2,
       "version_minor": 0
      },
      "text/plain": [
       "HBox(children=(IntProgress(value=0, max=62313), HTML(value='')))"
      ]
     },
     "metadata": {},
     "output_type": "display_data"
    },
    {
     "name": "stdout",
     "output_type": "stream",
     "text": [
      "\n"
     ]
    },
    {
     "data": {
      "application/vnd.jupyter.widget-view+json": {
       "model_id": "6f9466960794444e9ac32c600ffd8bbc",
       "version_major": 2,
       "version_minor": 0
      },
      "text/plain": [
       "HBox(children=(IntProgress(value=0, max=34645), HTML(value='')))"
      ]
     },
     "metadata": {},
     "output_type": "display_data"
    },
    {
     "name": "stdout",
     "output_type": "stream",
     "text": [
      "\n"
     ]
    }
   ],
   "source": [
    "# Фичи через н-граммы\n",
    "\n",
    "# cv = TfidfVectorizer(ngram_range=(1, 2), max_features=150_000) \n",
    "# # Добавим и разрядим авторов\n",
    "# with open('data_6/train_title_pickle', 'rb') as pick:\n",
    "#     train_title = pickle.load(pick)\n",
    "#     train_title_vector = cv.fit_transform(tqdm_notebook(train_title))\n",
    "    \n",
    "# with open('data_6/test_title_pickle', 'rb') as pick:\n",
    "#     test_title = pickle.load(pick)\n",
    "#     test_title_vector = cv.fit_transform(tqdm_notebook(test_title))"
   ]
  },
  {
   "cell_type": "code",
   "execution_count": 45,
   "metadata": {},
   "outputs": [
    {
     "name": "stdout",
     "output_type": "stream",
     "text": [
      "(62313, 150000) (34645, 150000)\n"
     ]
    }
   ],
   "source": [
    "print(train_title_vector.shape, test_title_vector.shape)"
   ]
  },
  {
   "cell_type": "code",
   "execution_count": 49,
   "metadata": {},
   "outputs": [],
   "source": [
    "# Фичи через даммиес\n",
    "def add_features(df):\n",
    "    dumm = pd.get_dummies(df)\n",
    "\n",
    "    return dumm\n",
    "\n",
    "# Авторы\n",
    "with open('data_6/total_author_pickle', 'rb') as pick:\n",
    "    tags = pickle.load(pick)\n",
    "    train_author_dumm = add_features(tags)[:62313]\n",
    "    test_author_dumm = add_features(tags)[62313:]\n",
    "\n",
    "# Время\n",
    "with open('data_6/train_time_pickle', 'rb') as pick:\n",
    "    time = pickle.load(pick)\n",
    "    time = [datetime.strptime(st, '%H:%M:%S').hour for st in time]\n",
    "    train_time_dumm = add_features(time)\n",
    "    \n",
    "with open('data_6/test_time_pickle', 'rb') as pick:\n",
    "    time = pickle.load(pick)\n",
    "    time = [datetime.strptime(st, '%H:%M:%S').hour for st in time]\n",
    "    test_time_dumm = add_features(time)\n",
    "\n",
    "# Дни недели и месяцы\n",
    "with open('data_6/train_date_pickle', 'rb') as pick:\n",
    "    date = pickle.load(pick)\n",
    "    weekday = [datetime.strptime(st, '%Y-%m-%d').weekday() for st in date]\n",
    "    month = [datetime.strptime(st, '%Y-%m-%d').month for st in date]\n",
    "    train_day_dumm = add_features(weekday)\n",
    "    train_month_dumm = add_features(month).iloc[:, np.r_[0:3, 6:12]]\n",
    "    \n",
    "with open('data_6/test_date_pickle', 'rb') as pick:\n",
    "    date = pickle.load(pick)\n",
    "    weekday = [datetime.strptime(st, '%Y-%m-%d').weekday() for st in date]\n",
    "    month = [datetime.strptime(st, '%Y-%m-%d').month for st in date]\n",
    "    test_day_dumm = add_features(weekday)\n",
    "    test_month_dumm = add_features(month)"
   ]
  },
  {
   "cell_type": "code",
   "execution_count": 9,
   "metadata": {},
   "outputs": [
    {
     "name": "stdout",
     "output_type": "stream",
     "text": [
      "(62313, 9) (34645, 9)\n"
     ]
    }
   ],
   "source": [
    "print(train_month_dumm.shape, test_month_dumm.shape)"
   ]
  },
  {
   "cell_type": "code",
   "execution_count": 50,
   "metadata": {},
   "outputs": [],
   "source": [
    "# Скалирование\n",
    "def scalling(data):\n",
    "    return MinMaxScaler().fit_transform(data.reshape(-1, 1))\n",
    "    \n",
    "with open('data_6/train_reading_t_pickle', 'rb') as pick:\n",
    "    train_reading = np.log(np.array(list(map(float, pickle.load(pick)))))\n",
    "    train_reading_scal = scalling(train_reading)\n",
    "    \n",
    "with open('data_6/test_reading_t_pickle', 'rb') as pick:\n",
    "    test_reading = np.log(np.array(list(map(float, pickle.load(pick)))))\n",
    "    test_reading_scal = scalling(test_reading)"
   ]
  },
  {
   "cell_type": "code",
   "execution_count": 11,
   "metadata": {},
   "outputs": [
    {
     "name": "stdout",
     "output_type": "stream",
     "text": [
      "(62313, 1) (34645, 1)\n"
     ]
    }
   ],
   "source": [
    "print(train_reading_scal.shape, test_reading_scal.shape)"
   ]
  },
  {
   "cell_type": "code",
   "execution_count": 51,
   "metadata": {},
   "outputs": [],
   "source": [
    "# Соединяем фичи\n",
    "X_train_sparse = hstack([X_train,\n",
    "                         train_title,\n",
    "                         train_author_dumm,\n",
    "                         train_reading_scal,\n",
    "                         train_time_dumm,\n",
    "                         train_day_dumm,\n",
    "                         train_month_dumm\n",
    "                        ]).tocsr()\n",
    "\n",
    "X_test_sparse = hstack([X_test, \n",
    "                        test_title,\n",
    "                        test_author_dumm,\n",
    "                        test_reading_scal,\n",
    "                        test_time_dumm,\n",
    "                        test_day_dumm,\n",
    "                        test_month_dumm\n",
    "                       ]).tocsr()"
   ]
  },
  {
   "cell_type": "code",
   "execution_count": 52,
   "metadata": {},
   "outputs": [
    {
     "name": "stdout",
     "output_type": "stream",
     "text": [
      "(62313, 344286) (34645, 344286)\n"
     ]
    }
   ],
   "source": [
    "print(X_train_sparse.shape, X_test_sparse.shape)"
   ]
  },
  {
   "cell_type": "code",
   "execution_count": 142,
   "metadata": {},
   "outputs": [
    {
     "data": {
      "text/plain": [
       "((62313, 2365), (34645, 3717))"
      ]
     },
     "execution_count": 142,
     "metadata": {},
     "output_type": "execute_result"
    }
   ],
   "source": [
    "# Поработаем со всеми фичами\n",
    "# X_train_sparse = VarianceThreshold(0.0001).fit_transform(X_train_sparse)\n",
    "# X_test_sparse = VarianceThreshold(0.0001).fit_transform(X_test_sparse)\n",
    "# X_train_sparse.shape, X_test_sparse.shape"
   ]
  },
  {
   "cell_type": "markdown",
   "metadata": {
    "_cell_guid": "9927589b-52e8-4779-88e9-0d68e06d5233",
    "_uuid": "bb2ce6a072594f15d0e6165f6dc1b95a16f2e282"
   },
   "source": [
    "Read targets from file."
   ]
  },
  {
   "cell_type": "code",
   "execution_count": 11,
   "metadata": {
    "_cell_guid": "4110961a-e9c7-49cb-8254-6a8ef3ebaf9d",
    "_uuid": "436102b8f71ce57efbe26a72ea32ae201629f8e0"
   },
   "outputs": [],
   "source": [
    "train_target = pd.read_csv(os.path.join(PATH_TO_DATA, 'train_log1p_recommends.csv'), \n",
    "                           index_col='id')"
   ]
  },
  {
   "cell_type": "code",
   "execution_count": 12,
   "metadata": {
    "_cell_guid": "98d188dc-a207-46a2-a895-739712c778cd",
    "_uuid": "7a4d7f5b14479c2de41641c985a23bd74c468b83"
   },
   "outputs": [
    {
     "data": {
      "text/plain": [
       "(62313, 1)"
      ]
     },
     "execution_count": 12,
     "metadata": {},
     "output_type": "execute_result"
    }
   ],
   "source": [
    "train_target.shape"
   ]
  },
  {
   "cell_type": "code",
   "execution_count": 13,
   "metadata": {
    "_cell_guid": "a7c8da46-715f-4b8b-bbc9-50b158aab78d",
    "_uuid": "5077b30518fea62218c98a3a02b14dcac19112ce"
   },
   "outputs": [],
   "source": [
    "y_train = train_target['log_recommends'].values"
   ]
  },
  {
   "cell_type": "markdown",
   "metadata": {
    "_cell_guid": "baca6a37-5b08-4a8c-b405-783a1ce13d34",
    "_uuid": "3404a2c96aada745215025eaf04e5c510098d2e8"
   },
   "source": [
    "Make a 30%-holdout set. "
   ]
  },
  {
   "cell_type": "code",
   "execution_count": 149,
   "metadata": {
    "_cell_guid": "819ccd8d-33c3-4714-8dbf-c886c019d2e2",
    "_uuid": "2958f3005056ce5d56911a5edc1d8486eba789a1"
   },
   "outputs": [],
   "source": [
    "train_part_size = int(0.7 * train_target.shape[0])\n",
    "X_train_part = X_train_sparse[:train_part_size, :]\n",
    "y_train_part = y_train[:train_part_size]\n",
    "X_valid =  X_train_sparse[train_part_size:, :]\n",
    "y_valid = y_train[train_part_size:]"
   ]
  },
  {
   "cell_type": "markdown",
   "metadata": {
    "_cell_guid": "49f43af6-0081-430c-ba4c-ed20e803553b",
    "_uuid": "3be18a01734b95c4ed79d45b8d60b04cd48a74e6"
   },
   "source": [
    "Now we are ready to fit a linear model."
   ]
  },
  {
   "cell_type": "code",
   "execution_count": 34,
   "metadata": {
    "_cell_guid": "14957c67-8989-44ce-b411-051bfe49e2be",
    "_uuid": "49f162fa4c0c775db9cc9491ccc935d992709abe"
   },
   "outputs": [],
   "source": [
    "from sklearn.linear_model import Ridge\n",
    "ridge = Ridge(alpha=0.75, random_state=17)"
   ]
  },
  {
   "cell_type": "code",
   "execution_count": 156,
   "metadata": {
    "_cell_guid": "106400fa-4ca2-4eae-966f-0398f2fc3e2a",
    "_uuid": "9dab2f98d5caddda453f80e4d1be835d4c542f8a"
   },
   "outputs": [],
   "source": [
    "# %%time\n",
    "# ridge_alphas = np.linspace(0.5, 1, 5)\n",
    "# print(ridge_alphas)\n",
    "# ridge_cv = RidgeCV(alphas=ridge_alphas, scoring='neg_mean_absolute_error', cv=2)\n",
    "# tqdm_notebook(ridge_cv.fit(X_train_sparse, y_train))\n",
    "\n",
    "# print(ridge_cv.coef_, \"\\n\",\n",
    "#       ridge_cv.alpha_, \"\\n\"\n",
    "#      );\n",
    "ridge.fit(X_train_sparse, y_train)"
   ]
  },
  {
   "cell_type": "code",
   "execution_count": 157,
   "metadata": {
    "_cell_guid": "81d72242-e201-4a96-9572-6bf816d772ac",
    "_uuid": "95d7bf69d473fa33a5a688d3c22f14d0c1944cb7"
   },
   "outputs": [
    {
     "ename": "ValueError",
     "evalue": "dimension mismatch",
     "output_type": "error",
     "traceback": [
      "\u001b[1;31m---------------------------------------------------------------------------\u001b[0m",
      "\u001b[1;31mValueError\u001b[0m                                Traceback (most recent call last)",
      "\u001b[1;32m<ipython-input-157-2e9ce3aa2f30>\u001b[0m in \u001b[0;36m<module>\u001b[1;34m\u001b[0m\n\u001b[1;32m----> 1\u001b[1;33m \u001b[0mridge_pred\u001b[0m \u001b[1;33m=\u001b[0m \u001b[0mridge\u001b[0m\u001b[1;33m.\u001b[0m\u001b[0mpredict\u001b[0m\u001b[1;33m(\u001b[0m\u001b[0mX_test_sparce\u001b[0m\u001b[1;33m)\u001b[0m\u001b[1;33m\u001b[0m\u001b[0m\n\u001b[0m",
      "\u001b[1;32mc:\\users\\tom\\appdata\\local\\programs\\python\\python37\\lib\\site-packages\\sklearn\\linear_model\\base.py\u001b[0m in \u001b[0;36mpredict\u001b[1;34m(self, X)\u001b[0m\n\u001b[0;32m    211\u001b[0m             \u001b[0mReturns\u001b[0m \u001b[0mpredicted\u001b[0m \u001b[0mvalues\u001b[0m\u001b[1;33m.\u001b[0m\u001b[1;33m\u001b[0m\u001b[0m\n\u001b[0;32m    212\u001b[0m         \"\"\"\n\u001b[1;32m--> 213\u001b[1;33m         \u001b[1;32mreturn\u001b[0m \u001b[0mself\u001b[0m\u001b[1;33m.\u001b[0m\u001b[0m_decision_function\u001b[0m\u001b[1;33m(\u001b[0m\u001b[0mX\u001b[0m\u001b[1;33m)\u001b[0m\u001b[1;33m\u001b[0m\u001b[0m\n\u001b[0m\u001b[0;32m    214\u001b[0m \u001b[1;33m\u001b[0m\u001b[0m\n\u001b[0;32m    215\u001b[0m     \u001b[0m_preprocess_data\u001b[0m \u001b[1;33m=\u001b[0m \u001b[0mstaticmethod\u001b[0m\u001b[1;33m(\u001b[0m\u001b[0m_preprocess_data\u001b[0m\u001b[1;33m)\u001b[0m\u001b[1;33m\u001b[0m\u001b[0m\n",
      "\u001b[1;32mc:\\users\\tom\\appdata\\local\\programs\\python\\python37\\lib\\site-packages\\sklearn\\linear_model\\base.py\u001b[0m in \u001b[0;36m_decision_function\u001b[1;34m(self, X)\u001b[0m\n\u001b[0;32m    196\u001b[0m         \u001b[0mX\u001b[0m \u001b[1;33m=\u001b[0m \u001b[0mcheck_array\u001b[0m\u001b[1;33m(\u001b[0m\u001b[0mX\u001b[0m\u001b[1;33m,\u001b[0m \u001b[0maccept_sparse\u001b[0m\u001b[1;33m=\u001b[0m\u001b[1;33m[\u001b[0m\u001b[1;34m'csr'\u001b[0m\u001b[1;33m,\u001b[0m \u001b[1;34m'csc'\u001b[0m\u001b[1;33m,\u001b[0m \u001b[1;34m'coo'\u001b[0m\u001b[1;33m]\u001b[0m\u001b[1;33m)\u001b[0m\u001b[1;33m\u001b[0m\u001b[0m\n\u001b[0;32m    197\u001b[0m         return safe_sparse_dot(X, self.coef_.T,\n\u001b[1;32m--> 198\u001b[1;33m                                dense_output=True) + self.intercept_\n\u001b[0m\u001b[0;32m    199\u001b[0m \u001b[1;33m\u001b[0m\u001b[0m\n\u001b[0;32m    200\u001b[0m     \u001b[1;32mdef\u001b[0m \u001b[0mpredict\u001b[0m\u001b[1;33m(\u001b[0m\u001b[0mself\u001b[0m\u001b[1;33m,\u001b[0m \u001b[0mX\u001b[0m\u001b[1;33m)\u001b[0m\u001b[1;33m:\u001b[0m\u001b[1;33m\u001b[0m\u001b[0m\n",
      "\u001b[1;32mc:\\users\\tom\\appdata\\local\\programs\\python\\python37\\lib\\site-packages\\sklearn\\utils\\extmath.py\u001b[0m in \u001b[0;36msafe_sparse_dot\u001b[1;34m(a, b, dense_output)\u001b[0m\n\u001b[0;32m    166\u001b[0m     \"\"\"\n\u001b[0;32m    167\u001b[0m     \u001b[1;32mif\u001b[0m \u001b[0msparse\u001b[0m\u001b[1;33m.\u001b[0m\u001b[0missparse\u001b[0m\u001b[1;33m(\u001b[0m\u001b[0ma\u001b[0m\u001b[1;33m)\u001b[0m \u001b[1;32mor\u001b[0m \u001b[0msparse\u001b[0m\u001b[1;33m.\u001b[0m\u001b[0missparse\u001b[0m\u001b[1;33m(\u001b[0m\u001b[0mb\u001b[0m\u001b[1;33m)\u001b[0m\u001b[1;33m:\u001b[0m\u001b[1;33m\u001b[0m\u001b[0m\n\u001b[1;32m--> 168\u001b[1;33m         \u001b[0mret\u001b[0m \u001b[1;33m=\u001b[0m \u001b[0ma\u001b[0m \u001b[1;33m*\u001b[0m \u001b[0mb\u001b[0m\u001b[1;33m\u001b[0m\u001b[0m\n\u001b[0m\u001b[0;32m    169\u001b[0m         \u001b[1;32mif\u001b[0m \u001b[0mdense_output\u001b[0m \u001b[1;32mand\u001b[0m \u001b[0mhasattr\u001b[0m\u001b[1;33m(\u001b[0m\u001b[0mret\u001b[0m\u001b[1;33m,\u001b[0m \u001b[1;34m\"toarray\"\u001b[0m\u001b[1;33m)\u001b[0m\u001b[1;33m:\u001b[0m\u001b[1;33m\u001b[0m\u001b[0m\n\u001b[0;32m    170\u001b[0m             \u001b[0mret\u001b[0m \u001b[1;33m=\u001b[0m \u001b[0mret\u001b[0m\u001b[1;33m.\u001b[0m\u001b[0mtoarray\u001b[0m\u001b[1;33m(\u001b[0m\u001b[1;33m)\u001b[0m\u001b[1;33m\u001b[0m\u001b[0m\n",
      "\u001b[1;32mc:\\users\\tom\\appdata\\local\\programs\\python\\python37\\lib\\site-packages\\scipy\\sparse\\base.py\u001b[0m in \u001b[0;36m__mul__\u001b[1;34m(self, other)\u001b[0m\n\u001b[0;32m    495\u001b[0m             \u001b[1;31m# dense row or column vector\u001b[0m\u001b[1;33m\u001b[0m\u001b[1;33m\u001b[0m\u001b[0m\n\u001b[0;32m    496\u001b[0m             \u001b[1;32mif\u001b[0m \u001b[0mother\u001b[0m\u001b[1;33m.\u001b[0m\u001b[0mshape\u001b[0m \u001b[1;33m!=\u001b[0m \u001b[1;33m(\u001b[0m\u001b[0mN\u001b[0m\u001b[1;33m,\u001b[0m\u001b[1;33m)\u001b[0m \u001b[1;32mand\u001b[0m \u001b[0mother\u001b[0m\u001b[1;33m.\u001b[0m\u001b[0mshape\u001b[0m \u001b[1;33m!=\u001b[0m \u001b[1;33m(\u001b[0m\u001b[0mN\u001b[0m\u001b[1;33m,\u001b[0m \u001b[1;36m1\u001b[0m\u001b[1;33m)\u001b[0m\u001b[1;33m:\u001b[0m\u001b[1;33m\u001b[0m\u001b[0m\n\u001b[1;32m--> 497\u001b[1;33m                 \u001b[1;32mraise\u001b[0m \u001b[0mValueError\u001b[0m\u001b[1;33m(\u001b[0m\u001b[1;34m'dimension mismatch'\u001b[0m\u001b[1;33m)\u001b[0m\u001b[1;33m\u001b[0m\u001b[0m\n\u001b[0m\u001b[0;32m    498\u001b[0m \u001b[1;33m\u001b[0m\u001b[0m\n\u001b[0;32m    499\u001b[0m             \u001b[0mresult\u001b[0m \u001b[1;33m=\u001b[0m \u001b[0mself\u001b[0m\u001b[1;33m.\u001b[0m\u001b[0m_mul_vector\u001b[0m\u001b[1;33m(\u001b[0m\u001b[0mnp\u001b[0m\u001b[1;33m.\u001b[0m\u001b[0mravel\u001b[0m\u001b[1;33m(\u001b[0m\u001b[0mother\u001b[0m\u001b[1;33m)\u001b[0m\u001b[1;33m)\u001b[0m\u001b[1;33m\u001b[0m\u001b[0m\n",
      "\u001b[1;31mValueError\u001b[0m: dimension mismatch"
     ]
    }
   ],
   "source": [
    "ridge_pred = ridge.predict(X_test_sparse)"
   ]
  },
  {
   "cell_type": "markdown",
   "metadata": {
    "_cell_guid": "27841398-b988-4df1-8d5a-0d439fce7703",
    "_uuid": "21beec2c7186d8f6a93a0cdb3c95838d066292ec"
   },
   "source": [
    "Let's plot predictions and targets for the holdout set. Recall that these are #recommendations (= #claps) of Medium articles with the `np.log1p` transformation."
   ]
  },
  {
   "cell_type": "code",
   "execution_count": 18,
   "metadata": {
    "_cell_guid": "a2487849-80f2-4786-97aa-172ddf2782e5",
    "_uuid": "ae68ecea606621471e7bfed5a68448b43b676e2e"
   },
   "outputs": [
    {
     "data": {
      "image/png": "[encoded data removed]",
      "text/plain": [
       "<Figure size 432x288 with 1 Axes>"
      ]
     },
     "metadata": {
      "needs_background": "light"
     },
     "output_type": "display_data"
    }
   ],
   "source": [
    "plt.hist(y_train, bins=30, alpha=.5, color='red', label='true', range=(0,10));\n",
    "plt.hist(ridge_test_pred, bins=30, alpha=.5, color='green', label='pred', range=(0,10));\n",
    "plt.legend();"
   ]
  },
  {
   "cell_type": "markdown",
   "metadata": {
    "_cell_guid": "ca0efa6a-ebca-4496-8a2e-0d99f97b2d00",
    "_uuid": "e1a7b075e9cc292e6e9772f5bbfcc90dfb9186b1"
   },
   "source": [
    "As we can see, the prediction is far from perfect, and we get MAE $\\approx$ 1.3 that corresponds to $\\approx$ 2.7 error in #recommendations."
   ]
  },
  {
   "cell_type": "code",
   "execution_count": null,
   "metadata": {
    "_cell_guid": "58b14c8b-ba67-43b3-bb41-1fd3e1dd6071",
    "_uuid": "651bc8958bd1bd38a1c18c2444648e5e076e2cbf"
   },
   "outputs": [],
   "source": [
    "valid_mae = mean_absolute_error(y_valid, ridge_pred)\n",
    "valid_mae, np.expm1(valid_mae)"
   ]
  },
  {
   "cell_type": "markdown",
   "metadata": {
    "_cell_guid": "e1253943-fcd1-4df9-b740-cf2cf719b8ba",
    "_uuid": "41bf4f23f385fa1f677394828578cf1994d2d0e0"
   },
   "source": [
    "Finally, train the model on the full accessible training set, make predictions for the test set and form a submission file. "
   ]
  },
  {
   "cell_type": "code",
   "execution_count": 55,
   "metadata": {
    "_cell_guid": "03ac15c3-7022-4156-ae35-e9cc38daffd4",
    "_uuid": "c0e28441751c62dd796b029c59dc3c88e6473c6c"
   },
   "outputs": [
    {
     "name": "stdout",
     "output_type": "stream",
     "text": [
      "Wall time: 2min 14s\n"
     ]
    },
    {
     "data": {
      "text/plain": [
       "Ridge(alpha=0.75, copy_X=True, fit_intercept=True, max_iter=None,\n",
       "   normalize=False, random_state=17, solver='auto', tol=0.001)"
      ]
     },
     "execution_count": 55,
     "metadata": {},
     "output_type": "execute_result"
    }
   ],
   "source": [
    "%%time\n",
    "ridge.fit(X_train_sparse, y_train);"
   ]
  },
  {
   "cell_type": "code",
   "execution_count": 56,
   "metadata": {},
   "outputs": [
    {
     "name": "stdout",
     "output_type": "stream",
     "text": [
      "344286\n"
     ]
    }
   ],
   "source": [
    "print(len(ridge.coef_))"
   ]
  },
  {
   "cell_type": "code",
   "execution_count": 57,
   "metadata": {
    "_cell_guid": "84871bdd-9acc-418c-9e14-ba773962fda2",
    "_uuid": "0d6c45e96e16ce82c18d02fec143c0470536792d"
   },
   "outputs": [
    {
     "name": "stdout",
     "output_type": "stream",
     "text": [
      "Wall time: 192 ms\n"
     ]
    }
   ],
   "source": [
    "%%time\n",
    "ridge_test_pred = ridge.predict(X_test_sparse)"
   ]
  },
  {
   "cell_type": "code",
   "execution_count": 30,
   "metadata": {},
   "outputs": [
    {
     "name": "stderr",
     "output_type": "stream",
     "text": [
      "c:\\users\\tom\\appdata\\local\\programs\\python\\python37\\lib\\site-packages\\lightgbm\\engine.py:116: UserWarning: Found `num_trees` in params. Will use it instead of argument\n",
      "  warnings.warn(\"Found `{}` in params. Will use it instead of argument\".format(alias))\n"
     ]
    }
   ],
   "source": [
    "# lgb_x_train = lgb.Dataset(X_train_sparse.astype(np.float32), label=y_train)\n",
    "\n",
    "# num_round = 50\n",
    "# param = {'num_leaves': 31, 'num_trees': 100, 'objective': 'mean_absolute_error', 'metric': 'mae'}\n",
    "\n",
    "# bst_lgb = lgb.train(param, lgb_x_train, num_round)\n",
    "# lgb_test_pred = bst_lgb.predict(X_test_sparse.astype(np.float32))"
   ]
  },
  {
   "cell_type": "code",
   "execution_count": 132,
   "metadata": {},
   "outputs": [],
   "source": [
    "# mix_pred = 0.6 * lgb_test_pred + 0.4 * ridge_test_pred"
   ]
  },
  {
   "cell_type": "code",
   "execution_count": 36,
   "metadata": {
    "_cell_guid": "c9a2a2c7-e033-411e-921f-6ea814c0323e",
    "_uuid": "bdf4928c1ef8be25f50d4293849745353e4c5f90"
   },
   "outputs": [],
   "source": [
    "def write_submission_file(prediction, filename, path_to_sample=os.path.join(PATH_TO_DATA, 'sample_submission.csv')):\n",
    "    submission = pd.read_csv(path_to_sample, index_col='id')\n",
    "    \n",
    "    submission['log_recommends'] = prediction\n",
    "    submission['log_recommends'] = [x+1 for x in submission['log_recommends']]\n",
    "    submission.to_csv(filename)"
   ]
  },
  {
   "cell_type": "code",
   "execution_count": 62,
   "metadata": {
    "_cell_guid": "feda5e9a-09d5-4c11-8c56-29c2e99c1ec2",
    "_uuid": "80583fd5a7aadc53a5fce658404719805908539b"
   },
   "outputs": [],
   "source": [
    "write_submission_file(prediction=ridge_test_pred, filename='first_ridge_1.csv')"
   ]
  },
  {
   "cell_type": "code",
   "execution_count": 37,
   "metadata": {},
   "outputs": [
    {
     "data": {
      "application/vnd.jupyter.widget-view+json": {
       "model_id": "5150a66b645f4ddf82c082478d540ddf",
       "version_major": 2,
       "version_minor": 0
      },
      "text/plain": [
       "HBox(children=(IntProgress(value=1, bar_style='info', max=1), HTML(value='')))"
      ]
     },
     "metadata": {},
     "output_type": "display_data"
    },
    {
     "name": "stdout",
     "output_type": "stream",
     "text": [
      "\n"
     ]
    },
    {
     "data": {
      "application/vnd.jupyter.widget-view+json": {
       "model_id": "d8b6db8966bd42178aff4209d7c251cc",
       "version_major": 2,
       "version_minor": 0
      },
      "text/plain": [
       "HBox(children=(IntProgress(value=1, bar_style='info', max=1), HTML(value='')))"
      ]
     },
     "metadata": {},
     "output_type": "display_data"
    },
    {
     "name": "stdout",
     "output_type": "stream",
     "text": [
      "\n"
     ]
    }
   ],
   "source": [
    "# Объединим все признаки, чтобы прогнать их через фиче-инженерию\n",
    "\n",
    "\n",
    "# Делаем единый контент и тайтл\n",
    "content_list = []\n",
    "title_list = []\n",
    "def preprocess(path_to_inp_json_file):\n",
    "    with open(path_to_inp_json_file, encoding='utf-8') as inp_file:\n",
    "        for line in tqdm_notebook(inp_file):\n",
    "            json_data = read_json_line(line)\n",
    "            data = json_data['content'].replace('\\n', ' ').replace('\\r', ' ')\n",
    "            data_no_html_tags = strip_tags(data)\n",
    "            content_list.append(data_no_html_tags)\n",
    "            \n",
    "            data = json_data['title'].replace('\\n', ' ').replace('\\r', ' ')\n",
    "            data_no_html_tags = strip_tags(data)\n",
    "            title_list.append(data_no_html_tags)\n",
    "    return content_list, title_list\n",
    "\n",
    "\n",
    "train_content, train_title = preprocess(path_to_inp_json_file=os.path.join(PATH_TO_DATA, 'train.json'))\n",
    "full_content, full_title = preprocess(path_to_inp_json_file=os.path.join(PATH_TO_DATA, 'test.json'))"
   ]
  },
  {
   "cell_type": "code",
   "execution_count": 39,
   "metadata": {},
   "outputs": [
    {
     "data": {
      "application/vnd.jupyter.widget-view+json": {
       "model_id": "16604583f7884d06ab7d89e00fe80f6d",
       "version_major": 2,
       "version_minor": 0
      },
      "text/plain": [
       "HBox(children=(IntProgress(value=0, max=96958), HTML(value='')))"
      ]
     },
     "metadata": {},
     "output_type": "display_data"
    },
    {
     "name": "stdout",
     "output_type": "stream",
     "text": [
      "\n"
     ]
    },
    {
     "data": {
      "application/vnd.jupyter.widget-view+json": {
       "model_id": "ad124cb3db0144098900ebfe88353546",
       "version_major": 2,
       "version_minor": 0
      },
      "text/plain": [
       "HBox(children=(IntProgress(value=0, max=96958), HTML(value='')))"
      ]
     },
     "metadata": {},
     "output_type": "display_data"
    },
    {
     "name": "stdout",
     "output_type": "stream",
     "text": [
      "\n"
     ]
    }
   ],
   "source": [
    "# Векторизируем контент и тайтл\n",
    "cv = TfidfVectorizer(ngram_range=(1, 2), max_features=150_000)\n",
    "X_full_content = cv.fit_transform(tqdm_notebook(full_content))\n",
    "\n",
    "cv = TfidfVectorizer(ngram_range=(1, 3), max_features=150_000)\n",
    "X_full_title = cv.fit_transform(tqdm_notebook(full_title))"
   ]
  },
  {
   "cell_type": "code",
   "execution_count": 6,
   "metadata": {},
   "outputs": [],
   "source": [
    "# Сохраним/загрузим матрицы\n",
    "\n",
    "# sparse.save_npz('data_6/total_content.npz', X_full_content)\n",
    "# sparse.save_npz('data_6/total_title.npz', X_full_title)\n",
    "\n",
    "total_content = sparse.load_npz('data_6/total_content.npz')\n",
    "total_title = sparse.load_npz('data_6/total_title.npz')"
   ]
  },
  {
   "cell_type": "code",
   "execution_count": 7,
   "metadata": {},
   "outputs": [],
   "source": [
    "# Фичи через даммиес\n",
    "def add_features(df):\n",
    "    dumm = pd.get_dummies(df)\n",
    "\n",
    "    return dumm\n",
    "\n",
    "# Авторы\n",
    "with open('data_6/total_author_pickle', 'rb') as pick:\n",
    "    author = pickle.load(pick)\n",
    "    total_author_dumm = add_features(author)\n",
    "\n",
    "# Время\n",
    "with open('data_6/total_time_pickle', 'rb') as pick:\n",
    "    time = pickle.load(pick)\n",
    "    time = [datetime.strptime(st, '%H:%M:%S').hour for st in time]\n",
    "    total_time_dumm = add_features(time)\n",
    "\n",
    "# Дни недели и месяцы\n",
    "with open('data_6/total_date_pickle', 'rb') as pick:\n",
    "    date = pickle.load(pick)\n",
    "    weekday = [datetime.strptime(st, '%Y-%m-%d').weekday() for st in date]\n",
    "    week = [datetime.strptime(st, '%Y-%m-%d').isocalendar()[1] for st in date]\n",
    "    total_day_dumm = add_features(weekday)\n",
    "    total_week_dumm = add_features(week)"
   ]
  },
  {
   "cell_type": "code",
   "execution_count": 8,
   "metadata": {},
   "outputs": [],
   "source": [
    "# Скалирование\n",
    "def scalling(data):\n",
    "    return MinMaxScaler().fit_transform(data.reshape(-1, 1))\n",
    "    \n",
    "with open('data_6/total_reading_t_pickle', 'rb') as pick:\n",
    "    total_reading = np.log(np.array(list(map(float, pickle.load(pick)))))\n",
    "    total_reading_scal = scalling(total_reading)"
   ]
  },
  {
   "cell_type": "code",
   "execution_count": 22,
   "metadata": {},
   "outputs": [],
   "source": [
    "Total_sparse = hstack([total_content,\n",
    "                         total_title,\n",
    "                         total_author_dumm,\n",
    "                         total_reading_scal,\n",
    "                         total_time_dumm,\n",
    "                         total_day_dumm,\n",
    "                         total_week_dumm\n",
    "                        ]).tocsr()"
   ]
  },
  {
   "cell_type": "code",
   "execution_count": null,
   "metadata": {},
   "outputs": [],
   "source": [
    "# Селектим фичи\n",
    "# Total_sparse_ = VarianceThreshold(0.00001).fit_transform(Total_sparse)\n",
    "k_selector = SelectKBest(mutual_info_regression, k=100_000)\n",
    "k_selector.fit_transform(Total_sparse[:62313], y_train)\n",
    "print(k_selector.get_support())"
   ]
  },
  {
   "cell_type": "code",
   "execution_count": null,
   "metadata": {},
   "outputs": [],
   "source": [
    "Total_train_sparse = Total_sparse[:62313, k_selector.get_support()]\n",
    "Total_test_sparse = Total_sparse[62313:, k_selector.get_support()]"
   ]
  },
  {
   "cell_type": "code",
   "execution_count": null,
   "metadata": {},
   "outputs": [],
   "source": [
    "ridge.fit(Total_train_sparse, y_train)\n",
    "ridge_test_pred = ridge.predict(Total_test_sparse)\n",
    "write_submission_file(prediction=ridge_test_pred, filename='first_ridge_10.csv')"
   ]
  },
  {
   "cell_type": "markdown",
   "metadata": {
    "_cell_guid": "cf4bd078-fc3e-4e16-bdb7-95b40957a012",
    "_uuid": "bdfada7d6b984b1c89c0b68d1b95a135cb93aa2f"
   },
   "source": [
    "\n",
    "\n",
    "With this, you'll get 1.91185 on [public leaderboard](https://www.kaggle.com/c/how-good-is-your-medium-article/leaderboard). This is much higher than our validation MAE. This indicates that the target distribution in test set somewhat differs from that of the training set (recent Medium articles are more popular). This shouldn't confuse us as long as we see a correlation between local improvements and improvements on the leaderboard. "
   ]
  },
  {
   "cell_type": "markdown",
   "metadata": {
    "_cell_guid": "03175b91-3aca-495d-a03d-e81b8b8819da",
    "_uuid": "3a4ec3a8d30a0ac0d5cfe27d911ee742fccecbf2"
   },
   "source": [
    "Some ideas for improvement:\n",
    "- Engineer good features, this is the key to success. Some simple features will be based on publication time, authors, content length and so on\n",
    "- You may not ignore HTML and extract some features from there\n",
    "- You'd better experiment with your validation scheme. You should see a correlation between your local improvements and LB score\n",
    "- Try TF-IDF, ngrams, Word2Vec and GloVe embeddings\n",
    "- Try various NLP techniques like stemming and lemmatization\n",
    "- Tune hyperparameters. In our example, we've left only 50k features and used `C`=1 as a regularization parameter, this can be changed \n",
    "- SGD and Vowpal Wabbit will learn much faster\n",
    "- In our course, we don't cover neural nets. But it's not obliged to use GRUs or LSTMs in this competition. "
   ]
  }
 ],
 "metadata": {
  "kernelspec": {
   "display_name": "Python 3",
   "language": "python",
   "name": "python3"
  },
  "language_info": {
   "codemirror_mode": {
    "name": "ipython",
    "version": 3
   },
   "file_extension": ".py",
   "mimetype": "text/x-python",
   "name": "python",
   "nbconvert_exporter": "python",
   "pygments_lexer": "ipython3",
   "version": "3.7.2"
  }
 },
 "nbformat": 4,
 "nbformat_minor": 1
}
