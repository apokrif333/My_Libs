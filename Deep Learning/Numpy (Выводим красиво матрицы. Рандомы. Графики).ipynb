{
 "cells": [
  {
   "cell_type": "markdown",
   "metadata": {
    "colab_type": "text",
    "id": "S5T2mEB-ZvF-"
   },
   "source": [
    "# Массивы"
   ]
  },
  {
   "cell_type": "code",
   "execution_count": 2,
   "metadata": {
    "colab": {},
    "colab_type": "code",
    "id": "s59N8EYR_9bO"
   },
   "outputs": [],
   "source": [
    "import numpy"
   ]
  },
  {
   "cell_type": "code",
   "execution_count": 9,
   "metadata": {
    "colab": {},
    "colab_type": "code",
    "id": "jY0A5RyoAAjw"
   },
   "outputs": [],
   "source": [
    "a = numpy.zeros((2, 3), dtype=numpy.float32)  # ничего не вывело"
   ]
  },
  {
   "cell_type": "code",
   "execution_count": 10,
   "metadata": {
    "colab": {
     "base_uri": "https://localhost:8080/",
     "height": 51
    },
    "colab_type": "code",
    "id": "geYTJI96APBa",
    "outputId": "3fc9de03-0c2f-4f7e-f839-162d0f2304c3"
   },
   "outputs": [
    {
     "data": {
      "text/plain": [
       "array([[0., 0., 0.],\n",
       "       [0., 0., 0.]], dtype=float32)"
      ]
     },
     "execution_count": 10,
     "metadata": {},
     "output_type": "execute_result"
    }
   ],
   "source": [
    "a  # выведет а, по оси Y левая координата (внешняя), по оси X правая (внутренняя) "
   ]
  },
  {
   "cell_type": "code",
   "execution_count": 6,
   "metadata": {
    "colab": {},
    "colab_type": "code",
    "id": "k87_0_pAAP9N"
   },
   "outputs": [
    {
     "data": {
      "text/plain": [
       "array([[0., 0., 0.],\n",
       "       [0., 0., 0.]], dtype=float32)"
      ]
     },
     "execution_count": 6,
     "metadata": {},
     "output_type": "execute_result"
    }
   ],
   "source": [
    "a;  # не выведет а"
   ]
  },
  {
   "cell_type": "code",
   "execution_count": 11,
   "metadata": {
    "colab": {
     "base_uri": "https://localhost:8080/",
     "height": 34
    },
    "colab_type": "code",
    "id": "69_lVpi5HtQ5",
    "outputId": "f494f235-d3b5-4190-b068-ffa06b72025b"
   },
   "outputs": [
    {
     "data": {
      "text/plain": [
       "numpy.ndarray"
      ]
     },
     "execution_count": 11,
     "metadata": {},
     "output_type": "execute_result"
    }
   ],
   "source": [
    "type(a)"
   ]
  },
  {
   "cell_type": "code",
   "execution_count": 12,
   "metadata": {
    "colab": {
     "base_uri": "https://localhost:8080/",
     "height": 34
    },
    "colab_type": "code",
    "id": "6qFgWZSIIbHC",
    "outputId": "ca5926de-3e6a-4180-ca94-a96cf67593fa"
   },
   "outputs": [
    {
     "data": {
      "text/plain": [
       "numpy.ndarray"
      ]
     },
     "execution_count": 12,
     "metadata": {},
     "output_type": "execute_result"
    }
   ],
   "source": [
    "a.__class__"
   ]
  },
  {
   "cell_type": "code",
   "execution_count": 16,
   "metadata": {
    "colab": {
     "base_uri": "https://localhost:8080/",
     "height": 136
    },
    "colab_type": "code",
    "id": "4RUgwQgdAR0b",
    "outputId": "2cec4da8-3770-4472-e1bb-8ddabc5fea2c"
   },
   "outputs": [
    {
     "data": {
      "text/plain": [
       "array([[[0., 0., 0., 0.],\n",
       "        [0., 0., 0., 0.],\n",
       "        [0., 0., 0., 0.]],\n",
       "\n",
       "       [[0., 0., 0., 0.],\n",
       "        [0., 0., 0., 0.],\n",
       "        [0., 0., 0., 0.]]], dtype=float32)"
      ]
     },
     "execution_count": 16,
     "metadata": {},
     "output_type": "execute_result"
    }
   ],
   "source": [
    "a = numpy.zeros((2, 3, 4), dtype=numpy.float32); a  # выведет новый а, по оси X правая координата, по оси Y -- внешние координаты"
   ]
  },
  {
   "cell_type": "code",
   "execution_count": 17,
   "metadata": {
    "colab": {
     "base_uri": "https://localhost:8080/",
     "height": 255
    },
    "colab_type": "code",
    "id": "5L3fS2jPAVFY",
    "outputId": "beafefda-962f-4186-b36e-695120b947fd"
   },
   "outputs": [
    {
     "data": {
      "text/plain": [
       "array([[[1., 1., 1., 1.],\n",
       "        [1., 1., 1., 1.],\n",
       "        [1., 1., 1., 1.]],\n",
       "\n",
       "       [[1., 1., 1., 1.],\n",
       "        [1., 1., 1., 1.],\n",
       "        [1., 1., 1., 1.]]], dtype=float32)"
      ]
     },
     "metadata": {},
     "output_type": "display_data"
    },
    {
     "data": {
      "text/plain": [
       "array([[[2., 2., 2., 2.],\n",
       "        [2., 2., 2., 2.],\n",
       "        [2., 2., 2., 2.]],\n",
       "\n",
       "       [[2., 2., 2., 2.],\n",
       "        [2., 2., 2., 2.],\n",
       "        [2., 2., 2., 2.]]], dtype=float32)"
      ]
     },
     "metadata": {},
     "output_type": "display_data"
    }
   ],
   "source": [
    "a += 1\n",
    "display(a)\n",
    "a *=2\n",
    "display(a)  # сложение со скаляром, умножение на скаляр; display -- вывод с помощью jupyter (colab)"
   ]
  },
  {
   "cell_type": "code",
   "execution_count": 22,
   "metadata": {
    "colab": {},
    "colab_type": "code",
    "id": "0z5eIC8NC8bn"
   },
   "outputs": [],
   "source": [
    "# *shape поигимает любое количество аргументов arrgs\n",
    "ones = lambda *shape: numpy.ones(shape, dtype=numpy.float32)"
   ]
  },
  {
   "cell_type": "code",
   "execution_count": 23,
   "metadata": {
    "colab": {
     "base_uri": "https://localhost:8080/",
     "height": 34
    },
    "colab_type": "code",
    "id": "7-tuzZB_qQZR",
    "outputId": "534ac8ff-f235-4933-9ea5-28128b16e278"
   },
   "outputs": [
    {
     "data": {
      "text/plain": [
       "array([[1., 1., 1.],\n",
       "       [1., 1., 1.],\n",
       "       [1., 1., 1.]], dtype=float32)"
      ]
     },
     "execution_count": 23,
     "metadata": {},
     "output_type": "execute_result"
    }
   ],
   "source": [
    "ones(3, 3)"
   ]
  },
  {
   "cell_type": "markdown",
   "metadata": {
    "colab_type": "text",
    "id": "DJHEVqDgZzDz"
   },
   "source": [
    "# Задача"
   ]
  },
  {
   "cell_type": "code",
   "execution_count": 62,
   "metadata": {
    "colab": {
     "base_uri": "https://localhost:8080/",
     "height": 289
    },
    "colab_type": "code",
    "id": "6I1Rg6xyAfyc",
    "outputId": "d628a10f-9fe0-4c03-d5ea-6944b7d48b88"
   },
   "outputs": [
    {
     "name": "stdout",
     "output_type": "stream",
     "text": [
      "[array([[1., 1., 1.],\n",
      "       [1., 1., 1.]], dtype=float32), '+', array([[1., 1., 1.],\n",
      "       [1., 1., 1.]], dtype=float32), '=', array([[2., 2., 2.],\n",
      "       [2., 2., 2.]], dtype=float32)]\n",
      "[[1. 1. 1.]\n",
      " [1. 1. 1.]] + [[1. 1. 1.]\n",
      " [1. 1. 1.]] = [[2. 2. 2.]\n",
      " [2. 2. 2.]]\n"
     ]
    },
    {
     "data": {
      "text/plain": [
       "array([[1., 1., 1.],\n",
       "       [1., 1., 1.]], dtype=float32)"
      ]
     },
     "metadata": {},
     "output_type": "display_data"
    },
    {
     "data": {
      "text/plain": [
       "'+'"
      ]
     },
     "metadata": {},
     "output_type": "display_data"
    },
    {
     "data": {
      "text/plain": [
       "array([[1., 1., 1.],\n",
       "       [1., 1., 1.]], dtype=float32)"
      ]
     },
     "metadata": {},
     "output_type": "display_data"
    },
    {
     "data": {
      "text/plain": [
       "'='"
      ]
     },
     "metadata": {},
     "output_type": "display_data"
    },
    {
     "data": {
      "text/plain": [
       "array([[2., 2., 2.],\n",
       "       [2., 2., 2.]], dtype=float32)"
      ]
     },
     "metadata": {},
     "output_type": "display_data"
    }
   ],
   "source": [
    "\"\"\"\n",
    "Задача: \n",
    "вывести красиво операцию A + B = C на экран\n",
    "\"\"\"\n",
    "\n",
    "my_input = [ones(2, 3), '+', ones(2, 3), '=', ones(2,3) * 2]\n",
    "print(my_input)\n",
    "print(*my_input)\n",
    "display(*my_input)"
   ]
  },
  {
   "cell_type": "code",
   "execution_count": 25,
   "metadata": {
    "colab": {},
    "colab_type": "code",
    "id": "cbOUFzTcCv12"
   },
   "outputs": [],
   "source": [
    "# пусть наша функция имеет такой формат:\n",
    "def pp(*lst):\n",
    "    pass\n",
    "pp(*my_input)"
   ]
  },
  {
   "cell_type": "code",
   "execution_count": 36,
   "metadata": {
    "colab": {
     "base_uri": "https://localhost:8080/",
     "height": 102
    },
    "colab_type": "code",
    "id": "ZUATzsgJEJYE",
    "outputId": "60667ed6-ebe3-410e-f4bc-bd4677a0f51b"
   },
   "outputs": [
    {
     "data": {
      "text/plain": [
       "[['array([[1., 1., 1.],', '       [1., 1., 1.]], dtype=float32)'],\n",
       " [\"'+'\"],\n",
       " ['array([[1., 1., 1.],', '       [1., 1., 1.]], dtype=float32)'],\n",
       " [\"'='\"],\n",
       " ['array([[2., 2., 2.],', '       [2., 2., 2.]], dtype=float32)']]"
      ]
     },
     "execution_count": 36,
     "metadata": {},
     "output_type": "execute_result"
    }
   ],
   "source": [
    "lines = [repr(a).split('\\n') for a in my_input]\n",
    "lines"
   ]
  },
  {
   "cell_type": "code",
   "execution_count": 37,
   "metadata": {
    "colab": {
     "base_uri": "https://localhost:8080/",
     "height": 102
    },
    "colab_type": "code",
    "id": "W9FGnSspDegd",
    "outputId": "2ef7c6bd-ebc3-4910-814f-af55690ef50d"
   },
   "outputs": [
    {
     "data": {
      "text/plain": [
       "[['[[1. 1. 1.]', ' [1. 1. 1.]]'],\n",
       " ['+'],\n",
       " ['[[1. 1. 1.]', ' [1. 1. 1.]]'],\n",
       " ['='],\n",
       " ['[[2. 2. 2.]', ' [2. 2. 2.]]']]"
      ]
     },
     "execution_count": 37,
     "metadata": {},
     "output_type": "execute_result"
    }
   ],
   "source": [
    "lines = [str(a).split('\\n') for a in my_input]\n",
    "lines"
   ]
  },
  {
   "cell_type": "code",
   "execution_count": 38,
   "metadata": {
    "colab": {
     "base_uri": "https://localhost:8080/",
     "height": 34
    },
    "colab_type": "code",
    "id": "yiBDcWHKD8Rw",
    "outputId": "efaca12d-c8fb-4917-f966-4185b5880629"
   },
   "outputs": [
    {
     "data": {
      "text/plain": [
       "2"
      ]
     },
     "execution_count": 38,
     "metadata": {},
     "output_type": "execute_result"
    }
   ],
   "source": [
    "max_lines = max([len(line) for line in lines])\n",
    "max_lines"
   ]
  },
  {
   "cell_type": "code",
   "execution_count": 39,
   "metadata": {
    "colab": {
     "base_uri": "https://localhost:8080/",
     "height": 102
    },
    "colab_type": "code",
    "id": "G1WhRCxgNjl9",
    "outputId": "4803b723-bacc-4b53-f673-f31e5c4da65d"
   },
   "outputs": [
    {
     "data": {
      "text/plain": [
       "[['[[1. 1. 1.]', ' [1. 1. 1.]]'],\n",
       " ['+', ''],\n",
       " ['[[1. 1. 1.]', ' [1. 1. 1.]]'],\n",
       " ['=', ''],\n",
       " ['[[2. 2. 2.]', ' [2. 2. 2.]]']]"
      ]
     },
     "execution_count": 39,
     "metadata": {},
     "output_type": "execute_result"
    }
   ],
   "source": [
    "lines = [line + [''] * (max_lines - len(line)) for line in lines]\n",
    "lines"
   ]
  },
  {
   "cell_type": "markdown",
   "metadata": {
    "colab_type": "text",
    "id": "nOmfUeYUaS8U"
   },
   "source": [
    "### транспонирование, reshape, операция получения максимума"
   ]
  },
  {
   "cell_type": "code",
   "execution_count": 40,
   "metadata": {
    "colab": {
     "base_uri": "https://localhost:8080/",
     "height": 68
    },
    "colab_type": "code",
    "id": "VfM5D9kMI3O_",
    "outputId": "5dc77d79-01e2-47ae-8691-526e60978fb4"
   },
   "outputs": [
    {
     "data": {
      "text/plain": [
       "array([['[[1. 1. 1.]', '+', '[[1. 1. 1.]', '=', '[[2. 2. 2.]'],\n",
       "       [' [1. 1. 1.]]', '', ' [1. 1. 1.]]', '', ' [2. 2. 2.]]']],\n",
       "      dtype='<U12')"
      ]
     },
     "execution_count": 40,
     "metadata": {},
     "output_type": "execute_result"
    }
   ],
   "source": [
    "lines_arr = numpy.array(lines)\n",
    "lines_arr.T"
   ]
  },
  {
   "cell_type": "code",
   "execution_count": 41,
   "metadata": {
    "colab": {
     "base_uri": "https://localhost:8080/",
     "height": 34
    },
    "colab_type": "code",
    "id": "hHqZMQZ-I9hi",
    "outputId": "29bd7f9b-bc23-4ae5-b6f8-852076e899a8"
   },
   "outputs": [
    {
     "data": {
      "text/plain": [
       "[2, 2, 2, 2, 2]"
      ]
     },
     "metadata": {},
     "output_type": "display_data"
    }
   ],
   "source": [
    "widths = [len(x) for x in lines]\n",
    "display(widths)"
   ]
  },
  {
   "cell_type": "code",
   "execution_count": 44,
   "metadata": {
    "colab": {
     "base_uri": "https://localhost:8080/",
     "height": 34
    },
    "colab_type": "code",
    "id": "adTwt4DKJbeV",
    "outputId": "2358ea1b-6bde-4c63-a70d-d322bec41187"
   },
   "outputs": [
    {
     "data": {
      "text/plain": [
       "(10,)"
      ]
     },
     "execution_count": 44,
     "metadata": {},
     "output_type": "execute_result"
    }
   ],
   "source": [
    "lines_arr.shape\n",
    "lines_arr.flatten().shape"
   ]
  },
  {
   "cell_type": "code",
   "execution_count": 45,
   "metadata": {
    "colab": {
     "base_uri": "https://localhost:8080/",
     "height": 119
    },
    "colab_type": "code",
    "id": "90FIUhBsKZQF",
    "outputId": "73525b15-1545-45e1-e31a-4197dd963754"
   },
   "outputs": [
    {
     "data": {
      "text/plain": [
       "array([11, 12,  1,  0, 11, 12,  1,  0, 11, 12])"
      ]
     },
     "metadata": {},
     "output_type": "display_data"
    },
    {
     "data": {
      "text/plain": [
       "array([[11, 12],\n",
       "       [ 1,  0],\n",
       "       [11, 12],\n",
       "       [ 1,  0],\n",
       "       [11, 12]])"
      ]
     },
     "metadata": {},
     "output_type": "display_data"
    }
   ],
   "source": [
    "widths = numpy.array([len(x) for x in lines_arr.flatten()])\n",
    "display(widths)\n",
    "\n",
    "widths = widths.reshape(len(lines_arr), -1)\n",
    "display(widths)"
   ]
  },
  {
   "cell_type": "code",
   "execution_count": 46,
   "metadata": {
    "colab": {
     "base_uri": "https://localhost:8080/",
     "height": 102
    },
    "colab_type": "code",
    "id": "WEZLTDTrN-pY",
    "outputId": "f39a24fd-350d-4041-85f2-d5b40ec2cb53"
   },
   "outputs": [
    {
     "data": {
      "text/plain": [
       "array([[11, 12],\n",
       "       [ 1,  0],\n",
       "       [11, 12],\n",
       "       [ 1,  0],\n",
       "       [11, 12]])"
      ]
     },
     "metadata": {},
     "output_type": "display_data"
    }
   ],
   "source": [
    "widths = widths.reshape(*lines_arr.shape)\n",
    "display(widths)"
   ]
  },
  {
   "cell_type": "code",
   "execution_count": 48,
   "metadata": {
    "colab": {
     "base_uri": "https://localhost:8080/",
     "height": 34
    },
    "colab_type": "code",
    "id": "ye8MODh_KqTp",
    "outputId": "371fa479-6175-4e69-eab6-26754737ff2f"
   },
   "outputs": [
    {
     "data": {
      "text/plain": [
       "12"
      ]
     },
     "execution_count": 48,
     "metadata": {},
     "output_type": "execute_result"
    }
   ],
   "source": [
    "numpy.max(widths)"
   ]
  },
  {
   "cell_type": "code",
   "execution_count": 47,
   "metadata": {
    "colab": {
     "base_uri": "https://localhost:8080/",
     "height": 102
    },
    "colab_type": "code",
    "id": "3kHxU4NeMCs5",
    "outputId": "867feee5-a8fe-4e9c-f33e-2eef4f1165be"
   },
   "outputs": [
    {
     "data": {
      "text/plain": [
       "array([[11, 12],\n",
       "       [ 1,  0],\n",
       "       [11, 12],\n",
       "       [ 1,  0],\n",
       "       [11, 12]])"
      ]
     },
     "execution_count": 47,
     "metadata": {},
     "output_type": "execute_result"
    }
   ],
   "source": [
    "widths"
   ]
  },
  {
   "cell_type": "code",
   "execution_count": 49,
   "metadata": {
    "colab": {
     "base_uri": "https://localhost:8080/",
     "height": 34
    },
    "colab_type": "code",
    "id": "JKMecpu7MEBo",
    "outputId": "6a62a4d2-197d-4ba2-8356-c34277791e4a"
   },
   "outputs": [
    {
     "data": {
      "text/plain": [
       "12"
      ]
     },
     "execution_count": 49,
     "metadata": {},
     "output_type": "execute_result"
    }
   ],
   "source": [
    "widths.max()"
   ]
  },
  {
   "cell_type": "code",
   "execution_count": 51,
   "metadata": {
    "colab": {
     "base_uri": "https://localhost:8080/",
     "height": 34
    },
    "colab_type": "code",
    "id": "b-oaY66KMFdq",
    "outputId": "9efe53e4-6925-4365-f6ba-c34fb0520d78"
   },
   "outputs": [
    {
     "data": {
      "text/plain": [
       "array([12,  1, 12,  1, 12])"
      ]
     },
     "execution_count": 51,
     "metadata": {},
     "output_type": "execute_result"
    }
   ],
   "source": [
    "widths.max(axis=1)  # складывает по внутренней оси, "
   ]
  },
  {
   "cell_type": "code",
   "execution_count": 50,
   "metadata": {
    "colab": {},
    "colab_type": "code",
    "id": "ca2TQmYsMJiK"
   },
   "outputs": [],
   "source": [
    "line_widths = widths.max(axis=1)"
   ]
  },
  {
   "cell_type": "markdown",
   "metadata": {
    "colab_type": "text",
    "id": "ugJhTbxGaHla"
   },
   "source": [
    "### форматирование всё равно придётся делать поэлементно. зашли в тупик..."
   ]
  },
  {
   "cell_type": "code",
   "execution_count": 52,
   "metadata": {
    "colab": {
     "base_uri": "https://localhost:8080/",
     "height": 34
    },
    "colab_type": "code",
    "id": "G3btWZgxSM3j",
    "outputId": "d2460d7a-c651-47ff-97d9-edc1aaecdcaf"
   },
   "outputs": [
    {
     "data": {
      "text/plain": [
       "2"
      ]
     },
     "execution_count": 52,
     "metadata": {},
     "output_type": "execute_result"
    }
   ],
   "source": [
    "lines = [str(a).split('\\n') for a in my_input]\n",
    "max_lines = max([len(line) for line in lines])\n",
    "max_lines"
   ]
  },
  {
   "cell_type": "code",
   "execution_count": 64,
   "metadata": {
    "colab": {
     "base_uri": "https://localhost:8080/",
     "height": 68
    },
    "colab_type": "code",
    "id": "_hgrRixPSWMb",
    "outputId": "e3f9da24-a24a-4660-d26a-9a5269639391"
   },
   "outputs": [
    {
     "name": "stdout",
     "output_type": "stream",
     "text": [
      "[[1 2] \n",
      " [3 4]]\n",
      "       \n"
     ]
    }
   ],
   "source": [
    "def fmt_item(lines, max_lines=0):\n",
    "    max_width = max([len(line) for line in lines])\n",
    "    empty = ' ' * max_width\n",
    "    lines = [line.ljust(max_width) for line in lines]\n",
    "    lines += [empty] * (max_lines - len(lines))\n",
    "    return lines    \n",
    "    \n",
    "results = fmt_item(str(numpy.arange(1, 5).reshape(2, -1)).split('\\n'), max_lines=3)\n",
    "print('\\n'.join(results))"
   ]
  },
  {
   "cell_type": "code",
   "execution_count": 0,
   "metadata": {
    "colab": {},
    "colab_type": "code",
    "id": "GTwQu-wR7qX5"
   },
   "outputs": [],
   "source": [
    "# а что делать дальше, когда у нас есть такие массивы? \n",
    "# воспользуемся array().T"
   ]
  },
  {
   "cell_type": "code",
   "execution_count": 68,
   "metadata": {
    "colab": {
     "base_uri": "https://localhost:8080/",
     "height": 51
    },
    "colab_type": "code",
    "id": "_etjxroVTCtS",
    "outputId": "63cbf167-ab6e-45c6-fb16-128a980d27cb"
   },
   "outputs": [
    {
     "name": "stdout",
     "output_type": "stream",
     "text": [
      "[[1. 1. 1.]  + [[1. 1. 1.]  = [[2. 2. 2.] \n",
      " [1. 1. 1.]]    [1. 1. 1.]]    [2. 2. 2.]]\n"
     ]
    }
   ],
   "source": [
    "def pp(*lst):\n",
    "    lines = [str(item).split('\\n') for item in lst]\n",
    "    max_lines = max([len(item) for item in lines])\n",
    "    \n",
    "    lines = [fmt_item(item, max_lines=max_lines) for item in lines]\n",
    "    lines_t = numpy.array(lines).T\n",
    "    print('\\n'.join([' '.join(line) for line in lines_t]))\n",
    "    \n",
    "pp(*my_input)"
   ]
  },
  {
   "cell_type": "markdown",
   "metadata": {
    "colab_type": "text",
    "id": "aQ9AIQ9hZ_7O"
   },
   "source": [
    "### Попробуем нашу функцию:"
   ]
  },
  {
   "cell_type": "code",
   "execution_count": 69,
   "metadata": {
    "colab": {
     "base_uri": "https://localhost:8080/",
     "height": 102
    },
    "colab_type": "code",
    "id": "yROkCSNbEMhs",
    "outputId": "59c7ab18-1241-41ac-d3c5-0f013f7e946d"
   },
   "outputs": [
    {
     "name": "stdout",
     "output_type": "stream",
     "text": [
      "[[ 1  2]  * [[10.         12.22222222]  = [[ 10.          24.44444444] \n",
      " [ 3  4]     [14.44444444 16.66666667]     [ 43.33333333  66.66666667] \n",
      " [ 5  6]     [18.88888889 21.11111111]     [ 94.44444444 126.66666667] \n",
      " [ 7  8]     [23.33333333 25.55555556]     [163.33333333 204.44444444] \n",
      " [ 9 10]]    [27.77777778 30.        ]]    [250.         300.        ]]\n"
     ]
    }
   ],
   "source": [
    "A = numpy.arange(1, 11).reshape(5,2)\n",
    "B = numpy.linspace(10, 30, 10).reshape(5,2)\n",
    "R = A * B\n",
    "pp(A, '*', B, '=', R)"
   ]
  },
  {
   "cell_type": "code",
   "execution_count": 0,
   "metadata": {
    "colab": {
     "base_uri": "https://localhost:8080/",
     "height": 51
    },
    "colab_type": "code",
    "id": "RD_lME-dDD6O",
    "outputId": "8443fce1-1dbf-46a8-fa8d-c5d83f5994f8"
   },
   "outputs": [
    {
     "name": "stdout",
     "output_type": "stream",
     "text": [
      "[[1 2]  + [[5 6]  = [[ 6  8] \n",
      " [3 4]]    [7 8]]    [10 12]]\n"
     ]
    }
   ],
   "source": [
    "import operator\n",
    "#operator.add = lambda x, y: x + y\n",
    "\n",
    "def op(x, name, y, func):\n",
    "    r = func(x, y)\n",
    "    pp(x, name, y, '=', r)\n",
    "    \n",
    "op(numpy.array([[1,2], [3,4]]), '+', numpy.array([[5,6],[7,8]]), operator.add)"
   ]
  },
  {
   "cell_type": "code",
   "execution_count": 70,
   "metadata": {
    "colab": {
     "base_uri": "https://localhost:8080/",
     "height": 102
    },
    "colab_type": "code",
    "id": "Jz93V8mSAoe2",
    "outputId": "9552a94b-e482-4cf1-b4d4-c4ab1463e596"
   },
   "outputs": [
    {
     "name": "stdout",
     "output_type": "stream",
     "text": [
      "[[ 1  2]  * [[10.         12.22222222]  = [[ 10.          24.44444444] \n",
      " [ 3  4]     [14.44444444 16.66666667]     [ 43.33333333  66.66666667] \n",
      " [ 5  6]     [18.88888889 21.11111111]     [ 94.44444444 126.66666667] \n",
      " [ 7  8]     [23.33333333 25.55555556]     [163.33333333 204.44444444] \n",
      " [ 9 10]]    [27.77777778 30.        ]]    [250.         300.        ]]\n"
     ]
    }
   ],
   "source": [
    "# вспомним классы, оформим в виде класса\n",
    "class Op:\n",
    "    def __init__(self, name, func):\n",
    "        self.name = name\n",
    "        self.func = func\n",
    "    \n",
    "    def __call__(self, x, y):\n",
    "        r = self.func(x, y)\n",
    "        pp(x, self.name, y, '=', r)\n",
    "\n",
    "SSum = Op('+', lambda x, y: x + y)\n",
    "SMul = Op('*', lambda x, y: x * y)\n",
    "MMul = Op('@', lambda x, y: x @ y)  # python 3.5+ \n",
    "\n",
    "SMul(A, B)"
   ]
  },
  {
   "cell_type": "code",
   "execution_count": 71,
   "metadata": {
    "colab": {
     "base_uri": "https://localhost:8080/",
     "height": 102
    },
    "colab_type": "code",
    "id": "v5SZCD5jCjOy",
    "outputId": "c16935de-e267-4642-b4e9-5bc6a0057cc7"
   },
   "outputs": [
    {
     "name": "stdout",
     "output_type": "stream",
     "text": [
      "[[ 1  3  5  7  9]  @ [[10.         12.22222222]  = [[561.11111111 616.66666667] \n",
      " [ 2  4  6  8 10]]    [14.44444444 16.66666667]     [655.55555556 722.22222222]]\n",
      "                      [18.88888889 21.11111111]                                 \n",
      "                      [23.33333333 25.55555556]                                 \n",
      "                      [27.77777778 30.        ]]                                \n"
     ]
    }
   ],
   "source": [
    "MMul(A.T, B)"
   ]
  },
  {
   "cell_type": "code",
   "execution_count": 0,
   "metadata": {
    "colab": {},
    "colab_type": "code",
    "id": "P8faD7ZcTAHJ"
   },
   "outputs": [],
   "source": []
  },
  {
   "cell_type": "markdown",
   "metadata": {
    "colab_type": "text",
    "id": "QxRiSVhsSjqt"
   },
   "source": [
    "# Простая индексация"
   ]
  },
  {
   "cell_type": "code",
   "execution_count": 72,
   "metadata": {
    "colab": {
     "base_uri": "https://localhost:8080/",
     "height": 34
    },
    "colab_type": "code",
    "id": "LFCcP2gbEylq",
    "outputId": "d207706f-c53a-49bc-ca80-3f7e027a67bf"
   },
   "outputs": [
    {
     "name": "stdout",
     "output_type": "stream",
     "text": [
      "[10.         12.22222222] 27.77777777777778 [23.33333333]\n"
     ]
    }
   ],
   "source": [
    "pp(B[0, :], B[-1,-2], B[-2:-1, 0])"
   ]
  },
  {
   "cell_type": "markdown",
   "metadata": {
    "colab_type": "text",
    "id": "kt4SvIJsRsAB"
   },
   "source": [
    "# Broadcasting и stack"
   ]
  },
  {
   "cell_type": "code",
   "execution_count": 73,
   "metadata": {
    "colab": {
     "base_uri": "https://localhost:8080/",
     "height": 102
    },
    "colab_type": "code",
    "id": "QfWzE9HyFYS2",
    "outputId": "3371b674-c46a-4c12-e4b8-a6440cd3b7c4"
   },
   "outputs": [
    {
     "name": "stdout",
     "output_type": "stream",
     "text": [
      "[[ 1  2]  + [10.         12.22222222] = [[11.         14.22222222] \n",
      " [ 3  4]                                 [13.         16.22222222] \n",
      " [ 5  6]                                 [15.         18.22222222] \n",
      " [ 7  8]                                 [17.         20.22222222] \n",
      " [ 9 10]]                                [19.         22.22222222]]\n"
     ]
    }
   ],
   "source": [
    "SSum(A, B[0])  # что произойдёт? это преобразование называется broadcasting"
   ]
  },
  {
   "cell_type": "code",
   "execution_count": 74,
   "metadata": {
    "colab": {
     "base_uri": "https://localhost:8080/",
     "height": 102
    },
    "colab_type": "code",
    "id": "vp9dN7KhFfYq",
    "outputId": "f3a489c5-fa23-4a76-e59b-fc7466696694"
   },
   "outputs": [
    {
     "name": "stdout",
     "output_type": "stream",
     "text": [
      "[[ 1  2]  * [10.         12.22222222] = [[ 10.          24.44444444] \n",
      " [ 3  4]                                 [ 30.          48.88888889] \n",
      " [ 5  6]                                 [ 50.          73.33333333] \n",
      " [ 7  8]                                 [ 70.          97.77777778] \n",
      " [ 9 10]]                                [ 90.         122.22222222]]\n"
     ]
    }
   ],
   "source": [
    "SMul(A, B[0])  # смотрим ещё раз, на умножении"
   ]
  },
  {
   "cell_type": "code",
   "execution_count": 75,
   "metadata": {
    "colab": {
     "base_uri": "https://localhost:8080/",
     "height": 102
    },
    "colab_type": "code",
    "id": "UbGFHnJuFiYM",
    "outputId": "af4772bc-be9e-4c1d-b83a-d06d4720af1e"
   },
   "outputs": [
    {
     "name": "stdout",
     "output_type": "stream",
     "text": [
      "[[ 1  2]  * [[10.         12.22222222]  = [[ 10.          24.44444444] \n",
      " [ 3  4]     [10.         12.22222222]     [ 30.          48.88888889] \n",
      " [ 5  6]     [10.         12.22222222]     [ 50.          73.33333333] \n",
      " [ 7  8]     [10.         12.22222222]     [ 70.          97.77777778] \n",
      " [ 9 10]]    [10.         12.22222222]]    [ 90.         122.22222222]]\n"
     ]
    }
   ],
   "source": [
    "SMul(A, numpy.stack(list(B[0:1]) * 5))"
   ]
  },
  {
   "cell_type": "markdown",
   "metadata": {
    "colab_type": "text",
    "id": "KJf6Qh6cRWzC"
   },
   "source": [
    "# Бинарные и логические операции с массивами"
   ]
  },
  {
   "cell_type": "code",
   "execution_count": 76,
   "metadata": {
    "colab": {
     "base_uri": "https://localhost:8080/",
     "height": 102
    },
    "colab_type": "code",
    "id": "Okg0VT9ZF8gF",
    "outputId": "69e779bc-0495-4240-cb0f-418ccd947c2f"
   },
   "outputs": [
    {
     "name": "stdout",
     "output_type": "stream",
     "text": [
      "[[ 1  2]  [[False False]  [[10.         12.22222222]  [[ True  True] \n",
      " [ 3  4]   [False  True]   [14.44444444 16.66666667]   [ True  True] \n",
      " [ 5  6]   [ True  True]   [18.88888889 21.11111111]   [ True  True] \n",
      " [ 7  8]   [ True  True]   [23.33333333 25.55555556]   [ True  True] \n",
      " [ 9 10]]  [ True  True]]  [27.77777778 30.        ]]  [ True  True]]\n"
     ]
    }
   ],
   "source": [
    "pp(A, A>3, B, B>=10.) # сравнение float -- дело неточное"
   ]
  },
  {
   "cell_type": "code",
   "execution_count": 82,
   "metadata": {
    "colab": {
     "base_uri": "https://localhost:8080/",
     "height": 34
    },
    "colab_type": "code",
    "id": "HoNvY1sIt31t",
    "outputId": "f92848b4-5499-46ac-e819-5f21a2574c55"
   },
   "outputs": [
    {
     "data": {
      "text/plain": [
       "8388608"
      ]
     },
     "execution_count": 82,
     "metadata": {},
     "output_type": "execute_result"
    }
   ],
   "source": [
    "1<<23"
   ]
  },
  {
   "cell_type": "markdown",
   "metadata": {
    "colab_type": "text",
    "id": "N4_gcEynOrV0"
   },
   "source": [
    "Float 32 format: ![alt text](https://upload.wikimedia.org/wikipedia/commons/thumb/d/d2/Float_example.svg/1180px-Float_example.svg.png) "
   ]
  },
  {
   "cell_type": "code",
   "execution_count": 84,
   "metadata": {
    "colab": {
     "base_uri": "https://localhost:8080/",
     "height": 102
    },
    "colab_type": "code",
    "id": "vqjgnb3yGVM9",
    "outputId": "2189358f-8357-4120-8288-06b318a3dce4"
   },
   "outputs": [
    {
     "name": "stdout",
     "output_type": "stream",
     "text": [
      "[[ True False]  [[ True False] \n",
      " [False False]   [False False] \n",
      " [False False]   [False False] \n",
      " [False False]   [False False] \n",
      " [False False]]  [False False]]\n"
     ]
    }
   ],
   "source": [
    "pp(numpy.isclose(B, 10), (10 - 1e-7 <= B) & (B <= 10 + 1e-7))"
   ]
  },
  {
   "cell_type": "code",
   "execution_count": 0,
   "metadata": {
    "colab": {},
    "colab_type": "code",
    "id": "oPqy7M6nuCEB"
   },
   "outputs": [],
   "source": []
  },
  {
   "cell_type": "code",
   "execution_count": 85,
   "metadata": {
    "colab": {
     "base_uri": "https://localhost:8080/",
     "height": 34
    },
    "colab_type": "code",
    "id": "S2tIrfYDRfgr",
    "outputId": "757e3319-9760-442f-c6f9-aba5abfe73ea"
   },
   "outputs": [
    {
     "data": {
      "text/plain": [
       "array([10., 30.])"
      ]
     },
     "execution_count": 85,
     "metadata": {},
     "output_type": "execute_result"
    }
   ],
   "source": [
    "idx = numpy.isclose(B, 10) | numpy.isclose(B, 30)\n",
    "B[idx]"
   ]
  },
  {
   "cell_type": "markdown",
   "metadata": {
    "colab_type": "text",
    "id": "hPsC5EQBRgsM"
   },
   "source": [
    "# Индексация массивов"
   ]
  },
  {
   "cell_type": "code",
   "execution_count": 86,
   "metadata": {
    "colab": {
     "base_uri": "https://localhost:8080/",
     "height": 153
    },
    "colab_type": "code",
    "id": "b4ajbqkvJZ7Q",
    "outputId": "525bdf69-64e6-4517-c9ac-5babdb00c82b"
   },
   "outputs": [
    {
     "name": "stdout",
     "output_type": "stream",
     "text": [
      "[[10.         12.22222222] \n",
      " [14.44444444 16.66666667] \n",
      " [18.88888889 21.11111111] \n",
      " [23.33333333 25.55555556] \n",
      " [27.77777778 30.        ]]\n",
      "[]\n",
      "[ True False]\n",
      "[False False False False False]\n"
     ]
    }
   ],
   "source": [
    "pp(B)\n",
    "pp(numpy.isclose(B[1:-1, 1:-1], 10))  # классическая индексация питона\n",
    "pp(numpy.isclose(B[0], 10))   # берём первую строку\n",
    "pp(numpy.isclose(B[:, 1], 10))   # берём второй столбец"
   ]
  },
  {
   "cell_type": "markdown",
   "metadata": {
    "colab_type": "text",
    "id": "E6BHYI1qP2ZA"
   },
   "source": [
    "# Cлучайные значения"
   ]
  },
  {
   "cell_type": "code",
   "execution_count": 88,
   "metadata": {
    "colab": {
     "base_uri": "https://localhost:8080/",
     "height": 51
    },
    "colab_type": "code",
    "id": "8JxM_NfYHIvb",
    "outputId": "6fefa46e-0f8a-4b13-e890-a9a5c3f21281"
   },
   "outputs": [
    {
     "name": "stdout",
     "output_type": "stream",
     "text": [
      "0.6336482349262754 [[-0.01002595  1.67080819 -0.66437971]  [[0.08833981 0.68535982 0.95339335] \n",
      "                    [-0.60555494 -0.65099088  0.51256776]]  [0.00394827 0.51219226 0.81262096]]\n"
     ]
    }
   ],
   "source": [
    "\"\"\"\n",
    "uniform - случайное число между\n",
    "randn - матрица с нормальным распределением\n",
    "rand - матрица от 0 до 1\n",
    "\"\"\"\n",
    "pp(numpy.random.uniform(0, 1), numpy.random.randn(2, 3), numpy.random.rand(2, 3))"
   ]
  },
  {
   "cell_type": "code",
   "execution_count": 89,
   "metadata": {
    "colab": {
     "base_uri": "https://localhost:8080/",
     "height": 51
    },
    "colab_type": "code",
    "id": "AFWlq4tVPVe0",
    "outputId": "0840dd59-3683-4331-ec4b-b90ca1461162"
   },
   "outputs": [
    {
     "name": "stdout",
     "output_type": "stream",
     "text": [
      "0.5714025946899135 0.771320643266746 0.4288890546751146 0.0207519493594015\n",
      "0.5714025946899135 0.771320643266746 0.4288890546751146 0.0207519493594015\n"
     ]
    }
   ],
   "source": [
    "import random\n",
    "\n",
    "numpy.random.seed(10)\n",
    "nr = numpy.random.uniform(0, 1)\n",
    "nr2 = numpy.random.uniform(0, 1)\n",
    "\n",
    "random.seed(10)\n",
    "rr = random.uniform(0, 1)\n",
    "rr2 = random.uniform(0, 1)\n",
    "\n",
    "pp(rr, nr, rr2, nr2)\n",
    "\n",
    "random.seed(10)\n",
    "numpy.random.seed(10)\n",
    "rr = random.uniform(0, 1)\n",
    "nr = numpy.random.uniform(0, 1)\n",
    "rr2 = random.uniform(0, 1)\n",
    "nr2 = numpy.random.uniform(0, 1)\n",
    "\n",
    "pp(rr, nr, rr2, nr2)"
   ]
  },
  {
   "cell_type": "code",
   "execution_count": 95,
   "metadata": {
    "colab": {
     "base_uri": "https://localhost:8080/",
     "height": 347
    },
    "colab_type": "code",
    "id": "G4VN9KlmU16k",
    "outputId": "638555ba-b0e6-4827-da07-4e91fab182a9"
   },
   "outputs": [
    {
     "data": {
      "image/png": "[encoded data removed]",
      "text/plain": [
       "<Figure size 432x288 with 1 Axes>"
      ]
     },
     "metadata": {
      "needs_background": "light"
     },
     "output_type": "display_data"
    }
   ],
   "source": [
    "import matplotlib\n",
    "# значение по умолчанию в colab, но не в локальных ноутбуках\n",
    "matplotlib.rcParams['axes.grid'] = True\n",
    "\n",
    "import matplotlib.pyplot as plt\n",
    "# нарисуем график для 11 случайных нормально распределённых чисел.\n",
    "x = numpy.linspace(0, 10, 11)\n",
    "dots = numpy.random.randn(11)\n",
    "plt.plot(x, dots);"
   ]
  },
  {
   "cell_type": "code",
   "execution_count": 97,
   "metadata": {
    "colab": {
     "base_uri": "https://localhost:8080/",
     "height": 347
    },
    "colab_type": "code",
    "id": "YG61yWFRQC4_",
    "outputId": "a9253163-1c68-431e-862a-acc38e67203d"
   },
   "outputs": [
    {
     "data": {
      "image/png": "[encoded data removed]",
      "text/plain": [
       "<Figure size 432x288 with 1 Axes>"
      ]
     },
     "metadata": {
      "needs_background": "light"
     },
     "output_type": "display_data"
    }
   ],
   "source": [
    "import matplotlib\n",
    "matplotlib.rcParams['axes.grid'] = False  # убираем белую клетку (настройки colab)\n",
    "\n",
    "import matplotlib.pyplot as plt\n",
    "plt.plot(x, dots);  # рисуем линию ещё раз"
   ]
  },
  {
   "cell_type": "code",
   "execution_count": 98,
   "metadata": {
    "colab": {
     "base_uri": "https://localhost:8080/",
     "height": 347
    },
    "colab_type": "code",
    "id": "jtANKp8mT2Va",
    "outputId": "2968a906-dbd7-427f-9471-69d36bf8f3c5"
   },
   "outputs": [
    {
     "data": {
      "image/png": "[encoded data removed]",
      "text/plain": [
       "<Figure size 432x288 with 1 Axes>"
      ]
     },
     "metadata": {
      "needs_background": "light"
     },
     "output_type": "display_data"
    }
   ],
   "source": [
    "# если надо просто вывести точки, без линий между ними\n",
    "plt.scatter(x, dots);"
   ]
  },
  {
   "cell_type": "code",
   "execution_count": 99,
   "metadata": {
    "colab": {
     "base_uri": "https://localhost:8080/",
     "height": 182
    },
    "colab_type": "code",
    "id": "TR1UodU-T_AI",
    "outputId": "32ac8014-0704-43e3-fb89-3803a4f4dea2"
   },
   "outputs": [
    {
     "data": {
      "image/png": "[encoded data removed]",
      "text/plain": [
       "<Figure size 432x288 with 1 Axes>"
      ]
     },
     "metadata": {
      "needs_background": "light"
     },
     "output_type": "display_data"
    }
   ],
   "source": [
    "# выводим двумерный массив, используя цветовую схему 'hot'.\n",
    "# matplotlib автоматически определяет минимум и максимум\n",
    "# по нему настраивает цвета\n",
    "plt.imshow(numpy.arange(0, 120).reshape(6, 20), 'hot');"
   ]
  },
  {
   "cell_type": "markdown",
   "metadata": {
    "colab_type": "text",
    "id": "vu_xEninXHlS"
   },
   "source": [
    "# Строки и словари"
   ]
  },
  {
   "cell_type": "code",
   "execution_count": 100,
   "metadata": {
    "colab": {
     "base_uri": "https://localhost:8080/",
     "height": 34
    },
    "colab_type": "code",
    "id": "BLk5yKFqUYtW",
    "outputId": "acbd52c0-60b1-440d-c706-2ca555e8fa50"
   },
   "outputs": [
    {
     "name": "stdout",
     "output_type": "stream",
     "text": [
      "{' ', 'и', 'ы', 'о', 'н', 'ш', 'а', 'е', 'с', 'л', 'К', 'т', 'к', 'м', 'д', 'р'}\n"
     ]
    }
   ],
   "source": [
    "# Задача: определить, какой символ встречается чаще всего в данном тексте,\n",
    "# не считая пробелов!\n",
    "a = \"Кот сидел на крыше тише мыши\"\n",
    "pp(set(list(a)))"
   ]
  },
  {
   "cell_type": "code",
   "execution_count": 101,
   "metadata": {
    "colab": {
     "base_uri": "https://localhost:8080/",
     "height": 289
    },
    "colab_type": "code",
    "id": "j_4zX9MPWtxE",
    "outputId": "c9526655-eec9-4a94-afdd-9e309236a709"
   },
   "outputs": [
    {
     "data": {
      "text/plain": [
       "[(' ', 5),\n",
       " ('и', 3),\n",
       " ('е', 3),\n",
       " ('ш', 3),\n",
       " ('т', 2),\n",
       " ('ы', 2),\n",
       " ('К', 1),\n",
       " ('о', 1),\n",
       " ('с', 1),\n",
       " ('д', 1),\n",
       " ('л', 1),\n",
       " ('н', 1),\n",
       " ('а', 1),\n",
       " ('к', 1),\n",
       " ('р', 1),\n",
       " ('м', 1)]"
      ]
     },
     "execution_count": 101,
     "metadata": {},
     "output_type": "execute_result"
    }
   ],
   "source": [
    "from collections import Counter\n",
    "# приближённое решение.\n",
    "Counter(list(a)).most_common()\n",
    "# убрать пробел и будет то, что надо. попробуйте сами."
   ]
  },
  {
   "cell_type": "code",
   "execution_count": 102,
   "metadata": {
    "colab": {
     "base_uri": "https://localhost:8080/",
     "height": 34
    },
    "colab_type": "code",
    "id": "MlIdvUxCXSjG",
    "outputId": "7cc6a1ad-0c61-4656-8014-50f79cf2bfad"
   },
   "outputs": [
    {
     "name": "stdout",
     "output_type": "stream",
     "text": [
      "{'к': 2, 'о': 1, 'т': 2, 'с': 1, 'и': 3, 'д': 1, 'е': 3, 'л': 1, 'н': 1, 'а': 1, 'р': 1, 'ы': 2, 'ш': 3, 'м': 1}\n"
     ]
    }
   ],
   "source": [
    "# напишем вручную код аналогичный тому, что происходит внутри Counter\n",
    "counter = {}\n",
    "for ch in list(a.lower()):\n",
    "    if ch == ' ': \n",
    "        continue\n",
    "\n",
    "    if ch in counter:\n",
    "        counter[ch] += 1\n",
    "    else:\n",
    "        counter[ch] = 1\n",
    "    \n",
    "pp(counter)"
   ]
  },
  {
   "cell_type": "code",
   "execution_count": 103,
   "metadata": {
    "colab": {
     "base_uri": "https://localhost:8080/",
     "height": 34
    },
    "colab_type": "code",
    "id": "lQ5p5DaUYobm",
    "outputId": "dfc4f3d3-b127-41a7-c113-dd3f4c67968a"
   },
   "outputs": [
    {
     "name": "stdout",
     "output_type": "stream",
     "text": [
      "<class 'str'>\n"
     ]
    }
   ],
   "source": [
    "pp(type(ch))  # в питоне даже отдельные символы -- это строчки"
   ]
  },
  {
   "cell_type": "code",
   "execution_count": 104,
   "metadata": {
    "colab": {
     "base_uri": "https://localhost:8080/",
     "height": 34
    },
    "colab_type": "code",
    "id": "dEnQFr0HYq7B",
    "outputId": "a0c459f0-352c-4ce5-e7e9-a710efb09c36"
   },
   "outputs": [
    {
     "data": {
      "text/plain": [
       "3"
      ]
     },
     "execution_count": 104,
     "metadata": {},
     "output_type": "execute_result"
    }
   ],
   "source": [
    "max(counter.values())  # нашли максимум"
   ]
  },
  {
   "cell_type": "code",
   "execution_count": 105,
   "metadata": {
    "colab": {
     "base_uri": "https://localhost:8080/",
     "height": 34
    },
    "colab_type": "code",
    "id": "bPTUMoS9Y9B1",
    "outputId": "63f16210-ad6e-43b3-df2d-980818c7e8d1"
   },
   "outputs": [
    {
     "name": "stdout",
     "output_type": "stream",
     "text": [
      "и 3\n"
     ]
    }
   ],
   "source": [
    "# алгоритм для поиска максимума\n",
    "winner_ch = None\n",
    "winner_count = 0\n",
    "for ch, count in counter.items():\n",
    "  if count > winner_count:\n",
    "      winner_count = count\n",
    "      winner_ch = ch\n",
    "    \n",
    "print(winner_ch, winner_count)  # и вот наш символ-победитель\n",
    "# имейте в виду, победителя на самом деле три.\n",
    "# исправьте код, чтобы вывести и второй и третий."
   ]
  },
  {
   "cell_type": "code",
   "execution_count": 0,
   "metadata": {
    "colab": {},
    "colab_type": "code",
    "id": "qIzVzUWIZOjR"
   },
   "outputs": [],
   "source": []
  }
 ],
 "metadata": {
  "colab": {
   "collapsed_sections": [],
   "name": "Copy of Seminar 1 - python & numpy",
   "provenance": [],
   "version": "0.3.2"
  },
  "kernelspec": {
   "display_name": "Python 3",
   "language": "python",
   "name": "python3"
  },
  "language_info": {
   "codemirror_mode": {
    "name": "ipython",
    "version": 3
   },
   "file_extension": ".py",
   "mimetype": "text/x-python",
   "name": "python",
   "nbconvert_exporter": "python",
   "pygments_lexer": "ipython3",
   "version": "3.7.1"
  }
 },
 "nbformat": 4,
 "nbformat_minor": 1
}
